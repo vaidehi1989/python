{
 "cells": [
  {
   "cell_type": "markdown",
   "metadata": {},
   "source": [
    "# Introduction to Files"
   ]
  },
  {
   "cell_type": "code",
   "execution_count": 3,
   "metadata": {},
   "outputs": [
    {
     "name": "stdout",
     "output_type": "stream",
     "text": [
      "<_io.TextIOWrapper name='MyText.txt' mode='w' encoding='cp1252'> <class '_io.TextIOWrapper'>\n",
      "Name of the file:  MyText.txt\n",
      "Closed or not :  False\n",
      "Opening mode :  w\n"
     ]
    }
   ],
   "source": [
    "fo = open(\"MyText.txt\", \"w\")  # Opens file in r mode\n",
    "\n",
    "print(fo, type(fo))\n",
    "\n",
    "print (\"Name of the file: \", fo.name) # Returns name of the file.\n",
    "print (\"Closed or not : \", fo.closed) # Returns true if file is closed, false otherwise.\n",
    "print (\"Opening mode : \", fo.mode) # Returns access mode with which file was opened.\n",
    "\n",
    "fo.close()"
   ]
  },
  {
   "cell_type": "markdown",
   "metadata": {},
   "source": [
    "## Opening modes \n",
    "\n",
    "read mode ('r'), write mode ('w'), append mode ('a'),"
   ]
  },
  {
   "cell_type": "markdown",
   "metadata": {},
   "source": [
    "## Writing to a file"
   ]
  },
  {
   "cell_type": "code",
   "execution_count": 4,
   "metadata": {},
   "outputs": [],
   "source": [
    "fo = open(r\"C:\\Users\\Sia\\Desktop\\MyText.txt\", \"w\")\n",
    "\n",
    "fo.write(\"Hello Python\")\n",
    "\n",
    "fo.close()"
   ]
  },
  {
   "cell_type": "markdown",
   "metadata": {},
   "source": [
    "#### Example"
   ]
  },
  {
   "cell_type": "code",
   "execution_count": 2,
   "metadata": {
    "scrolled": true
   },
   "outputs": [
    {
     "name": "stdout",
     "output_type": "stream",
     "text": [
      "Brand : amul\n",
      "Flavor : mango\n",
      "Price : 50\n",
      "Brand : naturals\n",
      "Flavor : coconut\n",
      "Price : 80\n",
      "Brand : br\n",
      "Flavor : choco\n",
      "Price : 60\n"
     ]
    }
   ],
   "source": [
    "fo = open(\"IceCreamInventory.txt\",\"w\")\n",
    "\n",
    "fo.write(\"Brand \\t Flavor \\t Price\")\n",
    "\n",
    "for i in range(3):\n",
    "    s = \"\\n{} \\t {} \\t {}\".format(input(\"Brand : \"),input(\"Flavor : \"),input(\"Price : \"))\n",
    "    fo.write(s)\n",
    "\n",
    "fo.close()\n",
    "\n",
    "\n",
    "# values = [\"Brand : {} \\t Flavor : {} \\t Price : {}\".format(input(\"Brand : \"),input(\"Flavor : \"),input(\"Price : \")) for i in range(3)]\n",
    "# fo.write(\"\\n\".join(values))\n",
    "\n",
    "fo.close()"
   ]
  },
  {
   "cell_type": "markdown",
   "metadata": {},
   "source": [
    "## Read from a File"
   ]
  },
  {
   "cell_type": "code",
   "execution_count": 17,
   "metadata": {},
   "outputs": [
    {
     "name": "stdout",
     "output_type": "stream",
     "text": [
      "['mango \\tcandy \\t50 \\t\\n', 'Choco Chips \\tcombopacks \\t90 \\t\\n', 'Buterscotch \\tcups \\t50 \\t\\n', 'American Nuts \\tcombopacks \\t120 \\t\\n', 'Almond Chocobar \\tcandy \\t70 \\t\\n', 'Black current \\tcups \\t60 \\t\\n', 'Choco Brownie \\tcombopacks \\t130 \\t\\n', 'Strawberry \\tcups \\t40 \\t\\n', 'Chicoo \\tcups \\t60 \\t\\n', 'malai kulfi \\tcandy \\t60 \\t\\n', 'Mango kulfi \\tcandy \\t80 \\t\\n', 'Strawberry \\tcandy \\t90 \\t\\n', 'Vanilla \\tcups \\t30 \\t\\n', 'Pista \\tcombopacks \\t40 \\t\\n']\n"
     ]
    }
   ],
   "source": [
    "fo = open(\"IceCreamInventory.txt\", \"r\")  # Opens file in r mode\n",
    "\n",
    "# var = fo.read(6)\n",
    "\n",
    "# print(\"Current cursor Location \", fo.tell())\n",
    "\n",
    "# fo.seek(20)\n",
    "\n",
    "# print(\"Current cursor Location \", fo.tell())\n",
    "\n",
    "# var  = fo.readline()\n",
    "\n",
    "# var  = fo.readlines()\n",
    "\n",
    "# print(var)\n",
    "\n",
    "fo.close()  # close the file object"
   ]
  },
  {
   "cell_type": "markdown",
   "metadata": {},
   "source": [
    "### Ex1. Copy Contents from one file to another"
   ]
  },
  {
   "cell_type": "code",
   "execution_count": null,
   "metadata": {},
   "outputs": [],
   "source": [
    "fr = open(\"ReadFile\", \"r\")\n",
    "\n",
    "var = fr.read()\n",
    "\n",
    "fw = open(\"WriteFile\",\"w\")\n",
    "\n",
    "fw.write(var)\n",
    "\n",
    "fr.close()\n",
    "fw.close()"
   ]
  }
 ],
 "metadata": {
  "kernelspec": {
   "display_name": "Python 3",
   "language": "python",
   "name": "python3"
  },
  "language_info": {
   "codemirror_mode": {
    "name": "ipython",
    "version": 3
   },
   "file_extension": ".py",
   "mimetype": "text/x-python",
   "name": "python",
   "nbconvert_exporter": "python",
   "pygments_lexer": "ipython3",
   "version": "3.7.0"
  }
 },
 "nbformat": 4,
 "nbformat_minor": 2
}
