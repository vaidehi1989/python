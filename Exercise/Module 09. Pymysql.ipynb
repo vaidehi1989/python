{
 "cells": [
  {
   "cell_type": "code",
   "execution_count": 3,
   "metadata": {},
   "outputs": [
    {
     "ename": "ModuleNotFoundError",
     "evalue": "No module named 'pymysql'",
     "output_type": "error",
     "traceback": [
      "\u001b[1;31m---------------------------------------------------------------------------\u001b[0m",
      "\u001b[1;31mModuleNotFoundError\u001b[0m                       Traceback (most recent call last)",
      "\u001b[1;32m<ipython-input-3-f434a5b119c7>\u001b[0m in \u001b[0;36m<module>\u001b[1;34m()\u001b[0m\n\u001b[1;32m----> 1\u001b[1;33m \u001b[1;32mimport\u001b[0m \u001b[0mpymysql\u001b[0m \u001b[1;32mas\u001b[0m \u001b[0msql\u001b[0m\u001b[1;33m\u001b[0m\u001b[0m\n\u001b[0m\u001b[0;32m      2\u001b[0m \u001b[1;33m\u001b[0m\u001b[0m\n\u001b[0;32m      3\u001b[0m \u001b[0mdb\u001b[0m \u001b[1;33m=\u001b[0m \u001b[0msql\u001b[0m\u001b[1;33m.\u001b[0m\u001b[0mconnect\u001b[0m\u001b[1;33m(\u001b[0m\u001b[1;34m\"localhost\"\u001b[0m\u001b[1;33m,\u001b[0m \u001b[1;34m\"root\"\u001b[0m\u001b[1;33m,\u001b[0m \u001b[1;34m\"12345\"\u001b[0m\u001b[1;33m,\u001b[0m\u001b[1;34m\"mydb\"\u001b[0m\u001b[1;33m)\u001b[0m\u001b[1;33m\u001b[0m\u001b[0m\n\u001b[0;32m      4\u001b[0m \u001b[0mcursor\u001b[0m \u001b[1;33m=\u001b[0m \u001b[0mdb\u001b[0m\u001b[1;33m.\u001b[0m\u001b[0mcursor\u001b[0m\u001b[1;33m(\u001b[0m\u001b[1;33m)\u001b[0m\u001b[1;33m\u001b[0m\u001b[0m\n\u001b[0;32m      5\u001b[0m \u001b[0mprint\u001b[0m\u001b[1;33m(\u001b[0m\u001b[1;34m\"Connection established!!\"\u001b[0m\u001b[1;33m)\u001b[0m\u001b[1;33m\u001b[0m\u001b[0m\n",
      "\u001b[1;31mModuleNotFoundError\u001b[0m: No module named 'pymysql'"
     ]
    }
   ],
   "source": [
    "import pymysql as sql\n",
    "\n",
    "db = sql.connect(\"localhost\", \"root\", \"12345\",\"mydb\")\n",
    "cursor = db.cursor()\n",
    "print(\"Connection established!!\")"
   ]
  },
  {
   "cell_type": "code",
   "execution_count": 4,
   "metadata": {},
   "outputs": [
    {
     "name": "stdout",
     "output_type": "stream",
     "text": [
      "<pymysql.connections.Connection object at 0x055B9FB0>\n",
      "<pymysql.cursors.Cursor object at 0x03CB3DD0>\n"
     ]
    }
   ],
   "source": [
    "print(db)\n",
    "print(cursor)"
   ]
  },
  {
   "cell_type": "code",
   "execution_count": 1,
   "metadata": {
    "scrolled": false
   },
   "outputs": [
    {
     "ename": "NameError",
     "evalue": "name 'cursor' is not defined",
     "output_type": "error",
     "traceback": [
      "\u001b[1;31m---------------------------------------------------------------------------\u001b[0m",
      "\u001b[1;31mNameError\u001b[0m                                 Traceback (most recent call last)",
      "\u001b[1;32m<ipython-input-1-5fa97ec61371>\u001b[0m in \u001b[0;36m<module>\u001b[1;34m()\u001b[0m\n\u001b[1;32m----> 1\u001b[1;33m \u001b[0mcursor\u001b[0m\u001b[1;33m.\u001b[0m\u001b[0mexecute\u001b[0m\u001b[1;33m(\u001b[0m\u001b[1;34m\"SELECT VERSION()\"\u001b[0m\u001b[1;33m)\u001b[0m\u001b[1;33m\u001b[0m\u001b[0m\n\u001b[0m\u001b[0;32m      2\u001b[0m \u001b[0mdata\u001b[0m \u001b[1;33m=\u001b[0m \u001b[0mcursor\u001b[0m\u001b[1;33m.\u001b[0m\u001b[0mfetchone\u001b[0m\u001b[1;33m(\u001b[0m\u001b[1;33m)\u001b[0m\u001b[1;33m\u001b[0m\u001b[0m\n\u001b[0;32m      3\u001b[0m \u001b[0mprint\u001b[0m\u001b[1;33m(\u001b[0m\u001b[0mdata\u001b[0m\u001b[1;33m)\u001b[0m\u001b[1;33m\u001b[0m\u001b[0m\n",
      "\u001b[1;31mNameError\u001b[0m: name 'cursor' is not defined"
     ]
    }
   ],
   "source": [
    "cursor.execute(\"SELECT VERSION()\")\n",
    "data = cursor.fetchone()\n",
    "print(data)"
   ]
  },
  {
   "cell_type": "code",
   "execution_count": 6,
   "metadata": {},
   "outputs": [
    {
     "name": "stdout",
     "output_type": "stream",
     "text": [
      "('5.5.59',)\n",
      "Database version :  5.5.59\n"
     ]
    }
   ],
   "source": [
    "print(data)\n",
    "\n",
    "print(\"Database version : \", data[0])\n"
   ]
  },
  {
   "cell_type": "markdown",
   "metadata": {},
   "source": [
    "### Select Query"
   ]
  },
  {
   "cell_type": "code",
   "execution_count": 6,
   "metadata": {},
   "outputs": [
    {
     "name": "stdout",
     "output_type": "stream",
     "text": [
      "1\tmango\tcandy\t50\t\n",
      "2\tChoco Chips\tcombopacks\t90\t\n",
      "3\tButerscotch\tcups\t50\t\n",
      "4\tAmerican Nuts\tcombopacks\t120\t\n",
      "5\tAlmond Chocobar\tcandy\t70\t\n",
      "6\tBlack current\tcups\t60\t\n",
      "7\tChoco Brownie\tcombopacks\t130\t\n",
      "8\tStrawberry\tcups\t40\t\n",
      "9\tChicoo\tcups\t60\t\n",
      "10\tmalai kulfi\tcandy\t60\t\n",
      "11\tMango kulfi\tcandy\t80\t\n",
      "12\tStrawberry\tcandy\t90\t\n",
      "13\tVanilla\tcups\t30\t\n",
      "14\tPista\tcombopacks\t40\t\n"
     ]
    }
   ],
   "source": [
    "import pymysql as sql\n",
    "sqlQuery = \"select * from icecream\"\n",
    "\n",
    "try:\n",
    "    db = sql.connect(\"localhost\", \"root\", \"12345\",\"mydb\")\n",
    "    cursor = db.cursor()\n",
    "    cursor.execute(sqlQuery)  # Execute the SQL command\n",
    "    \n",
    "#     print(\"No of rows fetched : \", cursor.rowcount)  # returns the number of rows that were affected by an execute() method.\n",
    "    \n",
    "#     results = cursor.fetchone()  # Fetch all the rows in a list of lists.\n",
    "    results = cursor.fetchall()  # Fetch all the rows in a list of lists.\n",
    "    \n",
    "#     print(results)\n",
    "    \n",
    "    for row in results:\n",
    "        for ele in row:\n",
    "            print(ele, end=\"\\t\")\n",
    "        print()\n",
    "        \n",
    "except Exception:\n",
    "    print(\"Error: unable to fetch data\")\n",
    "\n",
    "db.close()"
   ]
  },
  {
   "cell_type": "markdown",
   "metadata": {},
   "source": [
    "### Insert Query"
   ]
  },
  {
   "cell_type": "code",
   "execution_count": 14,
   "metadata": {},
   "outputs": [
    {
     "name": "stdout",
     "output_type": "stream",
     "text": [
      "Inserted data successfully!!!\n"
     ]
    }
   ],
   "source": [
    "import pymysql as sql\n",
    "\n",
    "db = sql.connect(\"localhost\", \"root\", \"12345\",\"mydb\")\n",
    "cursor = db.cursor()\n",
    "\n",
    "sqlQuery = \"INSERT INTO student (name,marks) VALUES ('Ashish',79)\"\n",
    "\n",
    "try:\n",
    "    cursor.execute(sqlQuery)  # Execute the SQL command\n",
    "    db.commit()  # Commit your changes in the database\n",
    "    print(\"Inserted data successfully!!!\")\n",
    "except Exception:\n",
    "    print(\"Exception\")\n",
    "    db.rollback()  # Rollback in case there is any error\n",
    "db.close()"
   ]
  },
  {
   "cell_type": "markdown",
   "metadata": {},
   "source": [
    "### Update Query"
   ]
  },
  {
   "cell_type": "code",
   "execution_count": 15,
   "metadata": {},
   "outputs": [
    {
     "name": "stdout",
     "output_type": "stream",
     "text": [
      "Updated Successfully\n"
     ]
    }
   ],
   "source": [
    "import pymysql as sql\n",
    "\n",
    "db = sql.connect(\"localhost\", \"root\", \"12345\",\"mydb\")\n",
    "cursor = db.cursor()\n",
    "\n",
    "sqlQuery = \"UPDATE student SET  marks = 80 WHERE name = 'Ashish'\"\n",
    "\n",
    "try:\n",
    "    cursor.execute(sqlQuery)  # Execute the SQL command\n",
    "    db.commit()  # Commit your changes in the database\n",
    "    print(\"Updated Successfully\")\n",
    "except:\n",
    "    print(\"Exception\")\n",
    "    db.rollback()  # Rollback in case there is any error\n",
    "db.close()"
   ]
  },
  {
   "cell_type": "markdown",
   "metadata": {},
   "source": [
    "### Delete Query"
   ]
  },
  {
   "cell_type": "code",
   "execution_count": 13,
   "metadata": {},
   "outputs": [],
   "source": [
    "import pymysql as sql\n",
    "\n",
    "db = sql.connect(\"localhost\", \"root\", \"12345\",\"mydb\")\n",
    "cursor = db.cursor()\n",
    "\n",
    "sqlQuery = \"DELETE FROM student WHERE name ='Sam'\"\n",
    "\n",
    "try:\n",
    "    cursor.execute(sqlQuery)  # Execute the SQL command\n",
    "    db.commit()  # Commit your changes in the database\n",
    "except Exception:\n",
    "    print(\"Error in deletion\")\n",
    "    db.rollback()  # Rollback in case there is any error"
   ]
  },
  {
   "cell_type": "markdown",
   "metadata": {},
   "source": [
    "### Close Database"
   ]
  },
  {
   "cell_type": "code",
   "execution_count": 31,
   "metadata": {},
   "outputs": [],
   "source": [
    "db.close()"
   ]
  },
  {
   "cell_type": "code",
   "execution_count": 20,
   "metadata": {},
   "outputs": [],
   "source": [
    "import pymysql as sql\n",
    "\n",
    "db = sql.connect(\"localhost\", \"root\", \"12345\",\"mydb\")\n",
    "cursor = db.cursor()\n",
    "\n",
    "sqlQuery = \"SELECT name, category, price FROM icecream\"\n",
    "\n",
    "try:\n",
    "    cursor.execute(sqlQuery)  # Execute the SQL command\n",
    "    results = cursor.fetchall()\n",
    "    with open(\"IceCreamInventory.txt\", \"w\") as f:\n",
    "        for row in results:\n",
    "            s = \"\"\n",
    "            for ele in row:\n",
    "                s += \"{} \\t\".format(ele)\n",
    "            else:\n",
    "                s += \"\\n\"\n",
    "            f.write(s)\n",
    "    \n",
    "except Exception:\n",
    "    print(\"Error in deletion\")\n"
   ]
  },
  {
   "cell_type": "code",
   "execution_count": 19,
   "metadata": {},
   "outputs": [
    {
     "name": "stdout",
     "output_type": "stream",
     "text": [
      "[['mango', 'candy', '50'], ['Choco Chips', 'combopacks', '90'], ['Buterscotch', 'cups', '50'], ['American Nuts', 'combopacks', '120'], ['Almond Chocobar', 'candy', '70'], ['Black current', 'cups', '60'], ['Choco Brownie', 'combopacks', '130'], ['Strawberry', 'cups', '40'], ['Chicoo', 'cups', '60'], ['malai kulfi', 'candy', '60'], ['Mango kulfi', 'candy', '80'], ['Strawberry', 'candy', '90'], ['Vanilla', 'cups', '30'], ['Pista', 'combopacks', '40']]\n",
      "Inserted data successfully!!!\n",
      "Inserted data successfully!!!\n",
      "Inserted data successfully!!!\n",
      "Inserted data successfully!!!\n",
      "Inserted data successfully!!!\n",
      "Inserted data successfully!!!\n",
      "Inserted data successfully!!!\n",
      "Inserted data successfully!!!\n",
      "Inserted data successfully!!!\n",
      "Inserted data successfully!!!\n",
      "Inserted data successfully!!!\n",
      "Inserted data successfully!!!\n",
      "Inserted data successfully!!!\n",
      "Inserted data successfully!!!\n"
     ]
    }
   ],
   "source": [
    "import pymysql as sql\n",
    "\n",
    "with open(\"IceCreamInventory.txt\", \"r\") as f:\n",
    "    lines = f.readlines()\n",
    "    \n",
    "lines = list(map(lambda x: list((x.strip()).split(\" \\t\"))  ,lines))\n",
    "\n",
    "print(lines)\n",
    "\n",
    "db = sql.connect(\"localhost\", \"root\", \"12345\",\"mydb\")\n",
    "cursor = db.cursor()\n",
    "\n",
    "for line in lines:\n",
    "    sqlQuery = \"INSERT INTO icecream (name,category,price) VALUES ('{}','{}',{})\".format(line[0],line[1],line[2])\n",
    "\n",
    "    try:\n",
    "        cursor.execute(sqlQuery)  # Execute the SQL command\n",
    "        db.commit()  # Commit your changes in the database\n",
    "        print(\"Inserted data successfully!!!\")\n",
    "    except Exception:\n",
    "        print(\"Exception\")\n",
    "        db.rollback()  # Rollback in case there is any error\n",
    "\n",
    "db.close()\n",
    "\n"
   ]
  },
  {
   "cell_type": "code",
   "execution_count": 23,
   "metadata": {},
   "outputs": [
    {
     "name": "stdout",
     "output_type": "stream",
     "text": [
      "[['mango', 'candy', '50'], ['Choco Chips', 'combopacks', '90'], ['Buterscotch', 'cups', '50'], ['American Nuts', 'combopacks', '120'], ['Almond Chocobar', 'candy', '70'], ['Black current', 'cups', '60'], ['Choco Brownie', 'combopacks', '130'], ['Strawberry', 'cups', '40'], ['Chicoo', 'cups', '60'], ['malai kulfi', 'candy', '60'], ['Mango kulfi', 'candy', '80'], ['Strawberry', 'candy', '90'], ['Vanilla', 'cups', '30'], ['Pista', 'combopacks', '40']]\n"
     ]
    }
   ],
   "source": [
    "with open(\"IceCreamInventory.txt\", \"r\") as f:\n",
    "    data = f.readlines()\n",
    "    \n",
    "lines = list(map(lambda x: list((x.strip()).split(\" \\t\"))  ,data))\n",
    "\n",
    "print(lines)"
   ]
  },
  {
   "cell_type": "code",
   "execution_count": null,
   "metadata": {},
   "outputs": [],
   "source": []
  }
 ],
 "metadata": {
  "kernelspec": {
   "display_name": "Python 3",
   "language": "python",
   "name": "python3"
  },
  "language_info": {
   "codemirror_mode": {
    "name": "ipython",
    "version": 3
   },
   "file_extension": ".py",
   "mimetype": "text/x-python",
   "name": "python",
   "nbconvert_exporter": "python",
   "pygments_lexer": "ipython3",
   "version": "3.7.0"
  }
 },
 "nbformat": 4,
 "nbformat_minor": 2
}
