{
 "cells": [
  {
   "cell_type": "markdown",
   "metadata": {},
   "source": [
    "### Ex. Write a lambda function that accepts an integer (n) and returns summation of first n natural numbers. Formula to compute the summation : n(n+1) / 2."
   ]
  },
  {
   "cell_type": "code",
   "execution_count": 1,
   "metadata": {},
   "outputs": [
    {
     "data": {
      "text/plain": [
       "66"
      ]
     },
     "execution_count": 1,
     "metadata": {},
     "output_type": "execute_result"
    }
   ],
   "source": [
    "func = lambda n : n * (n + 1) // 2\n",
    "func(11)"
   ]
  },
  {
   "cell_type": "markdown",
   "metadata": {},
   "source": [
    "### Ex. Filter all the even numbers from the given. numbers \n",
    "l= [386, 462, 47, 418, 907, 344, 236, 375, 823, 566, 597, 978, 328, 615, 953, 345, 399, 162, 758, 219, 918, 237, 412, 566, 826, 248, 866, 950, 626, 949, 687, 217, 815, 67, 104, 58, 512, 24, 892, 894, 767, 553, 81, 379, 843, 831, 445, 742, 717, 958,743, 527]"
   ]
  },
  {
   "cell_type": "code",
   "execution_count": 2,
   "metadata": {},
   "outputs": [
    {
     "name": "stdout",
     "output_type": "stream",
     "text": [
      "[386, 462, 418, 344, 236, 566, 978, 328, 162, 758, 918, 412, 566, 826, 248, 866, 950, 626, 104, 58, 512, 24, 892, 894, 742, 958]\n"
     ]
    }
   ],
   "source": [
    "l= [386, 462, 47, 418, 907, 344, 236, 375, 823, 566, 597, 978, 328, 615, 953, 345, 399, 162, 758, 219, 918, 237, 412, 566, 826, 248, 866, 950, 626, 949, 687, 217, 815, 67, 104, 58, 512, 24, 892, 894, 767, 553, 81, 379, 843, 831, 445, 742, 717, 958,743, 527]\n",
    "print(list(filter(lambda x : x%2==0, l)))"
   ]
  },
  {
   "cell_type": "markdown",
   "metadata": {},
   "source": [
    "### Ex. Write a Python function that takes a list of words and returns the longest one."
   ]
  },
  {
   "cell_type": "code",
   "execution_count": 3,
   "metadata": {},
   "outputs": [
    {
     "name": "stdout",
     "output_type": "stream",
     "text": [
      "house\n"
     ]
    }
   ],
   "source": [
    "l = ['car', 'house', 'bike']\n",
    "\n",
    "l.sort(key = len)\n",
    "print(l[-1])"
   ]
  },
  {
   "cell_type": "markdown",
   "metadata": {},
   "source": [
    "### Ex. Write a Python program to get a new list, which contains the sum of the individual tuples in the given list.\n",
    "Sort the original list based on the sum of the tuples in the list. l = [(2, 5), (1, 2), (4, 4), (2, 3), (2, 7)]"
   ]
  },
  {
   "cell_type": "code",
   "execution_count": 4,
   "metadata": {},
   "outputs": [
    {
     "name": "stdout",
     "output_type": "stream",
     "text": [
      "[(1, 2), (2, 3), (2, 5), (4, 4), (2, 7)]\n",
      "[7, 3, 8, 5, 9]\n"
     ]
    }
   ],
   "source": [
    "l = [(2, 5), (1, 2), (4, 4), (2, 3), (2, 7)]\n",
    "l1 = [sum(i) for i in l]\n",
    "l.sort(key = lambda x : sum(x))\n",
    "print(l)\n",
    "print(l1)"
   ]
  },
  {
   "cell_type": "markdown",
   "metadata": {},
   "source": [
    "### Ex. Write a Python program to sort (ascending and descending) a dictionary by value.\n"
   ]
  },
  {
   "cell_type": "code",
   "execution_count": 5,
   "metadata": {},
   "outputs": [
    {
     "name": "stdout",
     "output_type": "stream",
     "text": [
      "Dictionary in ascending order by value :  [(4, 5), (1, 6), (2, 7), (3, 8), (0, 9)]\n",
      "Dictionary in descending order by value :  [(0, 9), (3, 8), (2, 7), (1, 6), (4, 5)]\n"
     ]
    }
   ],
   "source": [
    "d = {1: 6, 3: 8, 4: 5, 2: 7, 0: 9}\n",
    "\n",
    "sorted_d = sorted(d.items(), key=lambda x : x[1])\n",
    "print('Dictionary in ascending order by value : ',sorted_d)\n",
    "\n",
    "sorted_d = sorted(d.items(), key=lambda x : x[1],reverse=True)\n",
    "print('Dictionary in descending order by value : ',sorted_d)"
   ]
  },
  {
   "cell_type": "markdown",
   "metadata": {},
   "source": [
    "### Ex. Write a python program to join all elements (Mixed Data) of tuple to form a string"
   ]
  },
  {
   "cell_type": "code",
   "execution_count": 7,
   "metadata": {},
   "outputs": [
    {
     "data": {
      "text/plain": [
       "'1234a5.5'"
      ]
     },
     "execution_count": 7,
     "metadata": {},
     "output_type": "execute_result"
    }
   ],
   "source": [
    "t = (1,2,3,4,'a',5.5)\n",
    "\"\".join(map(lambda x : str(x),t))"
   ]
  },
  {
   "cell_type": "code",
   "execution_count": null,
   "metadata": {},
   "outputs": [],
   "source": []
  }
 ],
 "metadata": {
  "kernelspec": {
   "display_name": "Python 3",
   "language": "python",
   "name": "python3"
  },
  "language_info": {
   "codemirror_mode": {
    "name": "ipython",
    "version": 3
   },
   "file_extension": ".py",
   "mimetype": "text/x-python",
   "name": "python",
   "nbconvert_exporter": "python",
   "pygments_lexer": "ipython3",
   "version": "3.7.0"
  }
 },
 "nbformat": 4,
 "nbformat_minor": 2
}
