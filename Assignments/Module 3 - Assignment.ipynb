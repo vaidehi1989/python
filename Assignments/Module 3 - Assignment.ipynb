{
 "cells": [
  {
   "cell_type": "markdown",
   "metadata": {},
   "source": [
    "### Ex. Write a python program to count repeated characters in a string.\n",
    "Sample string: 'thequickbrownfoxjumpsoverthelazydog'"
   ]
  },
  {
   "cell_type": "code",
   "execution_count": 1,
   "metadata": {},
   "outputs": [
    {
     "name": "stdout",
     "output_type": "stream",
     "text": [
      "Enter a string : 'thequickbrownfoxjumpsoverthelazydog'\n",
      "characters ouccuring more than once in the string :  ['e', 'u', 'h', 'r', \"'\", 'o', 't']\n",
      "number of characters present in the string :  27\n"
     ]
    }
   ],
   "source": [
    "s = input(\"Enter a string : \")\n",
    "\n",
    "print(\"characters ouccuring more than once in the string : \",[x for x in set(s) if s.count(x)>1])\n",
    "\n",
    "print(\"number of characters present in the string : \", len(set(s)))"
   ]
  },
  {
   "cell_type": "markdown",
   "metadata": {},
   "source": [
    "### Ex. WAP to find validity of a string of parentheses, '(', ')', '{', '}', '[' and ']'.\n"
   ]
  },
  {
   "cell_type": "code",
   "execution_count": null,
   "metadata": {},
   "outputs": [],
   "source": []
  },
  {
   "cell_type": "markdown",
   "metadata": {},
   "source": [
    "### Ex. Write a python program to generate all the possible unique subsets from a given set.\n",
    "Hint : for a given set of n values (2^n - 1) subsets are generated."
   ]
  },
  {
   "cell_type": "code",
   "execution_count": 3,
   "metadata": {},
   "outputs": [
    {
     "name": "stdout",
     "output_type": "stream",
     "text": [
      "[(1,), (2,), (3,), (4,), (1, 2), (1, 3), (1, 4), (2, 3), (3, 4), (2, 4), (1, 2, 3), (1, 2, 4), (1, 3, 4), (2, 3, 4), (1, 2, 3, 4)]\n"
     ]
    }
   ],
   "source": [
    "def func(a):\n",
    "    a = [(i,) for i in a]\n",
    " \n",
    "    for i in range(len(a)-1):\n",
    "        for j in range(i+1, len(a)):\n",
    "            s = set(a[i] + a[j])\n",
    "            a.append(tuple(s))\n",
    "    return set(a)\n",
    "\n",
    "l = {1, 2, 3, 4}\n",
    "a = [(i,) for i in a]\n",
    "\n",
    "for i in range(len(a)-1):\n",
    "    for j in range(i+1, len(a)):\n",
    "        s = set(a[i] + a[j])\n",
    "        a.append(tuple(s))\n",
    "        \n",
    "s = set(a)\n",
    "print(sorted(s, key = len))"
   ]
  },
  {
   "cell_type": "markdown",
   "metadata": {},
   "source": [
    "### Ex. Write a Python program that accepts a comma separated sequence of words as input and prints the unique words in sorted form (alphanumerically).\n",
    "Sample Words : red, white, black, red, green, black <br>\n",
    "Expected Result : black, green, red, white,red"
   ]
  },
  {
   "cell_type": "code",
   "execution_count": null,
   "metadata": {},
   "outputs": [],
   "source": []
  }
 ],
 "metadata": {
  "kernelspec": {
   "display_name": "Python 3",
   "language": "python",
   "name": "python3"
  },
  "language_info": {
   "codemirror_mode": {
    "name": "ipython",
    "version": 3
   },
   "file_extension": ".py",
   "mimetype": "text/x-python",
   "name": "python",
   "nbconvert_exporter": "python",
   "pygments_lexer": "ipython3",
   "version": "3.7.0"
  }
 },
 "nbformat": 4,
 "nbformat_minor": 2
}
