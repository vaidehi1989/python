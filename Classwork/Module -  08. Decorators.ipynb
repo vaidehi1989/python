{
 "cells": [
  {
   "cell_type": "markdown",
   "metadata": {},
   "source": [
    "## Decorators\n",
    "\n",
    "<p><span style=\"font-family: 'times new roman', times; font-size: 12pt;\">Python has an interesting feature called&nbsp;<strong>decorators</strong>&nbsp;to add functionality to an existing code.&nbsp;Functions and methods are called&nbsp;<strong>callable</strong>&nbsp;as they can be called.&nbsp;In fact, any object which implements the special </span>method&nbsp;<span style=\"font-family: 'times new roman', times; font-size: 12pt;\"><code>__call__()</code></span>&nbsp;is<span style=\"font-family: 'times new roman', times; font-size: 12pt;\"> termed callable. So, in the most basic sense, a decorator is a callable that returns a callable.&nbsp;Basically, a decorator takes in a function, adds some functionality and returns it.</span></p>"
   ]
  },
  {
   "cell_type": "markdown",
   "metadata": {},
   "source": [
    "### Function decorated by functions. \n"
   ]
  },
  {
   "cell_type": "code",
   "execution_count": 4,
   "metadata": {},
   "outputs": [
    {
     "name": "stdout",
     "output_type": "stream",
     "text": [
      "Good morning, foo\n",
      "None\n"
     ]
    }
   ],
   "source": [
    "def greeting(expr):\n",
    "    def evening_greeting(func):\n",
    "        def function_wrapper():\n",
    "            print(\"Good evening, \" + func.__name__ )\n",
    "            func()\n",
    "            print(func)\n",
    "        return function_wrapper\n",
    "\n",
    "    def morning_greeting(func):\n",
    "        def function_wrapper():\n",
    "            print(\"Good morning, \" + func.__name__ )\n",
    "            func()\n",
    "            print(func.__doc__)\n",
    "        return function_wrapper\n",
    "    \n",
    "    if expr == \"morning\":\n",
    "        return morning_greeting\n",
    "    else:\n",
    "        return evening_greeting  \n",
    "\n",
    "\n",
    "@greeting(\"morning\")\n",
    "def foo():\n",
    "    pass\n",
    "foo()"
   ]
  },
  {
   "cell_type": "markdown",
   "metadata": {},
   "source": [
    "### Function decorated by class.\n"
   ]
  },
  {
   "cell_type": "code",
   "execution_count": 1,
   "metadata": {},
   "outputs": [
    {
     "name": "stdout",
     "output_type": "stream",
     "text": [
      "Decorating foo\n",
      "inside foo()\n"
     ]
    }
   ],
   "source": [
    "class decorator:\n",
    "    \n",
    "    def __init__(self, f):\n",
    "        self.f = f\n",
    "        \n",
    "    def __call__(self):\n",
    "        print(\"Decorating\", self.f.__name__)\n",
    "        self.f()\n",
    "\n",
    "@decorator\n",
    "def foo():\n",
    "    print(\"inside foo()\")\n",
    "\n",
    "foo()"
   ]
  },
  {
   "cell_type": "markdown",
   "metadata": {},
   "source": [
    "### Class decorated by function. \n"
   ]
  },
  {
   "cell_type": "code",
   "execution_count": 7,
   "metadata": {},
   "outputs": [
    {
     "name": "stdout",
     "output_type": "stream",
     "text": [
      "Good morning, ABC\n",
      "Hi\n",
      "Hello World \n"
     ]
    }
   ],
   "source": [
    "@greeting(\"morning\")\n",
    "class ABC:\n",
    "    '''Hello World '''\n",
    "    \n",
    "    def __init__(self):\n",
    "        print(\"Hi\")\n",
    "        \n",
    "a = ABC()"
   ]
  },
  {
   "cell_type": "markdown",
   "metadata": {},
   "source": [
    "### Class decorated by class."
   ]
  },
  {
   "cell_type": "code",
   "execution_count": 44,
   "metadata": {},
   "outputs": [
    {
     "data": {
      "text/plain": [
       "16"
      ]
     },
     "execution_count": 44,
     "metadata": {},
     "output_type": "execute_result"
    }
   ],
   "source": [
    "class Decorator():\n",
    "    def __init__(self, arg):\n",
    "        self.arg = arg\n",
    "\n",
    "    def __call__(self, cls):\n",
    "        \n",
    "        class Wrapped(cls):\n",
    "            \n",
    "            def new_method(self, value):\n",
    "                return value * 2\n",
    "\n",
    "        return Wrapped\n",
    "\n",
    "\n",
    "@Decorator(\"decorated class\")\n",
    "class TestClass():\n",
    "    def new_method(self, value):\n",
    "        return value * 3\n",
    "\n",
    "\n",
    "t = TestClass()\n",
    "t.new_method(8)\n"
   ]
  }
 ],
 "metadata": {
  "kernelspec": {
   "display_name": "Python 3",
   "language": "python",
   "name": "python3"
  },
  "language_info": {
   "codemirror_mode": {
    "name": "ipython",
    "version": 3
   },
   "file_extension": ".py",
   "mimetype": "text/x-python",
   "name": "python",
   "nbconvert_exporter": "python",
   "pygments_lexer": "ipython3",
   "version": "3.7.0"
  }
 },
 "nbformat": 4,
 "nbformat_minor": 2
}
