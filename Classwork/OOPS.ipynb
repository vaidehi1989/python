{
 "cells": [
  {
   "cell_type": "markdown",
   "metadata": {},
   "source": [
    "# Introduction`"
   ]
  },
  {
   "cell_type": "code",
   "execution_count": 10,
   "metadata": {},
   "outputs": [
    {
     "name": "stdout",
     "output_type": "stream",
     "text": [
      "101 \t Jane\n"
     ]
    },
    {
     "data": {
      "text/plain": [
       "<__main__.Student at 0x29c7d57b4a8>"
      ]
     },
     "execution_count": 10,
     "metadata": {},
     "output_type": "execute_result"
    }
   ],
   "source": [
    "class Student:\n",
    "    def __init__(self, rno, name, marks):\n",
    "        self.rno = rno\n",
    "        self.name = name\n",
    "        self.marks = marks\n",
    "        \n",
    "    def __str__(self):\n",
    "        return \"{} \\t {}\".format(self.rno, self.name)\n",
    "    \n",
    "#     def __repr__(self):\n",
    "#         return str(self.rno)\n",
    "        \n",
    "\n",
    "s = Student(101, \"Jane\", [50,80,70])\n",
    "print(s)\n",
    "s"
   ]
  },
  {
   "cell_type": "code",
   "execution_count": 13,
   "metadata": {},
   "outputs": [
    {
     "name": "stdout",
     "output_type": "stream",
     "text": [
      "101 \t Jane \t [50, 80, 70]\n",
      "102 \t Sam \t [60, 50, 80]\n",
      "103 \t Jane \t [60, 50, 70]\n"
     ]
    }
   ],
   "source": [
    "students = [Student(101, \"Jane\", [50,80,70]), Student(102, \"Sam\", [60,50,80]), Student(103, \"Jane\", [60,50,70])]\n",
    "\n",
    "for student in students:\n",
    "    print(student.rno, \"\\t\",student.name, \"\\t\", student.marks)"
   ]
  },
  {
   "cell_type": "code",
   "execution_count": 14,
   "metadata": {},
   "outputs": [
    {
     "name": "stdout",
     "output_type": "stream",
     "text": [
      "101 \t Jane \t 200\n",
      "102 \t Sam \t 190\n",
      "103 \t Jane \t 180\n"
     ]
    }
   ],
   "source": [
    "students = [Student(101, \"Jane\", [50,80,70]), Student(102, \"Sam\", [60,50,80]), Student(103, \"Jane\", [60,50,70])]\n",
    "\n",
    "for student in sorted(students, reverse=True, key = lambda s : sum(s.marks)):\n",
    "    print(student.rno, \"\\t\",student.name, \"\\t\", sum(student.marks))"
   ]
  },
  {
   "cell_type": "code",
   "execution_count": 3,
   "metadata": {},
   "outputs": [
    {
     "name": "stdout",
     "output_type": "stream",
     "text": [
      "Jane\n"
     ]
    }
   ],
   "source": [
    "class Employee:\n",
    "    def __init__(self, name, pay = 75000):\n",
    "        self.name = name\n",
    "        self.pay = pay\n",
    "        \n",
    "    def printemployee(self):\n",
    "        print(self.name)\n",
    "        \n",
    "class Developer(Employee):\n",
    "    \n",
    "    def writecode(self):\n",
    "        print(self.name , \"is writing code.\")\n",
    "        \n",
    "    def printemployee(self):\n",
    "        print(self.name, \" \", self.pay)\n",
    "        \n",
    "e = Employee(\"Jane\")\n",
    "e.printemployee()"
   ]
  },
  {
   "cell_type": "code",
   "execution_count": 4,
   "metadata": {},
   "outputs": [
    {
     "name": "stdout",
     "output_type": "stream",
     "text": [
      "George   75000\n",
      "George is writing code.\n"
     ]
    }
   ],
   "source": [
    "d = Developer(\"George\")\n",
    "d.printemployee()\n",
    "d.writecode()"
   ]
  },
  {
   "cell_type": "code",
   "execution_count": null,
   "metadata": {},
   "outputs": [],
   "source": []
  }
 ],
 "metadata": {
  "kernelspec": {
   "display_name": "Python 3 (ipykernel)",
   "language": "python",
   "name": "python3"
  },
  "language_info": {
   "codemirror_mode": {
    "name": "ipython",
    "version": 3
   },
   "file_extension": ".py",
   "mimetype": "text/x-python",
   "name": "python",
   "nbconvert_exporter": "python",
   "pygments_lexer": "ipython3",
   "version": "3.11.4"
  }
 },
 "nbformat": 4,
 "nbformat_minor": 4
}
