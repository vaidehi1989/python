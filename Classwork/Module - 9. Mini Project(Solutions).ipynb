{
 "cells": [
  {
   "cell_type": "markdown",
   "metadata": {},
   "source": [
    "### Ex. Working on customer data\n",
    "\n",
    "1. Read file customer.txt and store the data in form of customer objects(c_id,c_name, c_age, c_occupation).\n",
    "2. Filter the data to obtain a list of working professionals.\n",
    "3. Create a dictionary holding names of all the customer professions and count of number of customers belonging to each profession.\n",
    "4. Obtain a list of retired 'Pilots' and sort the list as per age."
   ]
  },
  {
   "cell_type": "code",
   "execution_count": null,
   "metadata": {},
   "outputs": [],
   "source": []
  }
 ],
 "metadata": {
  "kernelspec": {
   "display_name": "Python 3",
   "language": "python",
   "name": "python3"
  },
  "language_info": {
   "codemirror_mode": {
    "name": "ipython",
    "version": 3
   },
   "file_extension": ".py",
   "mimetype": "text/x-python",
   "name": "python",
   "nbconvert_exporter": "python",
   "pygments_lexer": "ipython3",
   "version": "3.7.0"
  }
 },
 "nbformat": 4,
 "nbformat_minor": 2
}
