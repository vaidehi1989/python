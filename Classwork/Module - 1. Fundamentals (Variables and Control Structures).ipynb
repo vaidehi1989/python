{
 "cells": [
  {
   "cell_type": "markdown",
   "metadata": {},
   "source": [
    "<h1 style=\"color:blue;\" align = \"center\">Introduction to Python Fundamentals</h1>"
   ]
  },
  {
   "cell_type": "markdown",
   "metadata": {},
   "source": [
    "<h3 style=\"color:brown;\"> Ex : Printing \"Hello World\" on console</h3>"
   ]
  },
  {
   "cell_type": "code",
   "execution_count": null,
   "metadata": {},
   "outputs": [],
   "source": []
  },
  {
   "cell_type": "markdown",
   "metadata": {},
   "source": [
    "<h3 style=\"color:brown;\"> Ex : Take name of the user as input from user and print a welcome message</h3>"
   ]
  },
  {
   "cell_type": "code",
   "execution_count": null,
   "metadata": {},
   "outputs": [],
   "source": []
  },
  {
   "cell_type": "code",
   "execution_count": null,
   "metadata": {},
   "outputs": [],
   "source": []
  },
  {
   "cell_type": "markdown",
   "metadata": {},
   "source": [
    "<h3 style=\"color:brown;\"> Ex: Building Simple calculator application </h3>"
   ]
  },
  {
   "cell_type": "code",
   "execution_count": null,
   "metadata": {},
   "outputs": [],
   "source": []
  },
  {
   "cell_type": "code",
   "execution_count": null,
   "metadata": {},
   "outputs": [],
   "source": []
  },
  {
   "cell_type": "code",
   "execution_count": null,
   "metadata": {},
   "outputs": [],
   "source": []
  },
  {
   "cell_type": "code",
   "execution_count": null,
   "metadata": {},
   "outputs": [],
   "source": []
  },
  {
   "cell_type": "code",
   "execution_count": null,
   "metadata": {},
   "outputs": [],
   "source": []
  },
  {
   "cell_type": "code",
   "execution_count": null,
   "metadata": {},
   "outputs": [],
   "source": []
  },
  {
   "cell_type": "markdown",
   "metadata": {},
   "source": [
    "<h3 style=\"color:brown;\"> Ex : Toss a coin and guess the outcome</h3>"
   ]
  },
  {
   "cell_type": "code",
   "execution_count": null,
   "metadata": {},
   "outputs": [],
   "source": []
  },
  {
   "cell_type": "markdown",
   "metadata": {},
   "source": [
    "<h3 style=\"color:brown;\"> Ex : Simulate the game : 7up 7 down</h3>"
   ]
  },
  {
   "cell_type": "code",
   "execution_count": null,
   "metadata": {},
   "outputs": [],
   "source": []
  },
  {
   "cell_type": "markdown",
   "metadata": {},
   "source": [
    "<h3 style=\"color:brown;\"> Ex : Printing prime numbers between 1 to 100</h3>"
   ]
  },
  {
   "cell_type": "code",
   "execution_count": null,
   "metadata": {},
   "outputs": [],
   "source": []
  },
  {
   "cell_type": "markdown",
   "metadata": {},
   "source": [
    "<h3 style=\"color:brown;\"> Ex : Fibonacci Series </h3>"
   ]
  },
  {
   "cell_type": "markdown",
   "metadata": {},
   "source": [
    "##### First n terms in the series."
   ]
  },
  {
   "cell_type": "code",
   "execution_count": null,
   "metadata": {},
   "outputs": [],
   "source": []
  },
  {
   "cell_type": "markdown",
   "metadata": {},
   "source": [
    "##### Last term in the series if less than or equal to n."
   ]
  },
  {
   "cell_type": "code",
   "execution_count": null,
   "metadata": {},
   "outputs": [],
   "source": []
  },
  {
   "cell_type": "markdown",
   "metadata": {},
   "source": [
    "<h3 style=\"color:brown;\">Practice Examples:"
   ]
  },
  {
   "cell_type": "markdown",
   "metadata": {},
   "source": [
    "1.\t WAP to compute the distance between the points (x1, y1) and (x2, y2).<br><br>\n",
    "2.\t WAP to calculate the hypotenuses of a right-angled triangle when sides are given. <br><br>\n",
    "3.\t WAP which accepts the radius of a circle from the user and computes the area. <br><br>\n",
    "4.\t WAP to get the third side of right-angled triangle from two given sides.<br><br>\n",
    "5.\t WAP to print the calendar of a given month and year.<br><br>\n",
    "6.\t Write a Python script to display the -\n",
    "a.\tCurrent date and time\n",
    "b.\tCurrent year\n",
    "c.\tMonth of year\n",
    "d.\tWeek number of the year\n",
    "e.\tWeekday of the week\n",
    "f.\tDay of year\n",
    "g.\tDay of the month\n",
    "h.\tDay of week\n",
    "i.\tWeek number<br><br>\n",
    "7.\t WAP to check entered number is even or odd.<br><br>\n",
    "8.\t WAP to determine whether a given year is a leap year.<br><br>\n",
    "9.\t Grade system example: Accept marks of a student and print the grade based on below mentioned criteria : <br>\n",
    "marks >= 75 --- A Grade <br> \n",
    "75 > marks >= 60 --- B Grade <br>\n",
    "60 > marks >= 40 --- C Grade <br>\n",
    "40 > marks --- D Grade <br><br>\n",
    "\n",
    "10.\t WAP to print largest of three numbers entered by user.<br><br>\n",
    "11.\t WAP to find number of digits in a number and then find sum of digits of a number.<br><br>\n",
    "12.\t WAP that prints all number from 1 to 50 skipping multiples of 3.<br><br>\n",
    "13.\t Find factorial of a number. <br><br>\n",
    "14.\t WAP to test whether a passed letter is a vowel or not.<br><br>\n",
    "15.\t WAP to check whether the three sides of a triangle forms a Pythagorean triplet.<br><br>\n",
    "16.\t WAP to find those numbers which are divisible by 7 and multiple of 5, between 1500 and 2700 (both included).<br><br>\n",
    "17.\t WAP to count the number of multiples 3 between 10-100.<br><br>\n",
    "18.\t WAP to check a triangle is equilateral, isosceles or scalene when the length of all three sides entered. Note:\n",
    "a.\tAn equilateral triangle is a triangle in which all three sides are equal.<br>\n",
    "b.\tA scalene triangle is a triangle that has three unequal sides.<br>\n",
    "c.\tAn isosceles triangle is a triangle with (at least) two equal sides.<br>\n",
    "19.\t WAP to print the multiplication table of a number entered by user.<br><br>\n",
    "20.\t WAP to check if a number is a perfect square.<br><br>\n",
    "21.\t WAP to print Armstrong numbers between 100-999.<br><br>\n",
    "22.\t WAP to check if number is Armstrong or not for n digit number.<br><br>\n",
    "23.\t Sum of digits of n!: n! means n × (n − 1) × ... × 3 × 2 × 1. For example, 10! = 10 × 9 × ... × 3 × 2 × 1 = 3628800, and the sum of the digits in the number 10! is 3 + 6 + 2 + 8 + 8 + 0 + 0 = 27. Find the sum of the digits in the number 100!.\n",
    "24.\t Sum square difference: WAP to find the difference between the sum of the squares of the first ten natural numbers and the square of the sum of the first ten natural numbers.<br><br>\n",
    "25.\t Smallest divisible no.: Find the smallest number that can be divided by each of the numbers from 1 to 10 without any remainder.<br><br>\n",
    "26.\t Largest Prime Factor: The prime factors of 13195 are 5, 7, 13 and 29. What is the largest prime factor of the number 600851475143<br><br>\n",
    "27.\t Multiples of 3 and 5: If we list all the natural numbers below 10 that are multiples of 3 or 5, we get 3, 5, 6 and 9. The sum of these multiples is 23. Find the sum of all the multiples of 3 or 5 below 1000.<br><br>\n",
    "28.\t Fibonacci series: Print 10th even number in Fibonacci series.<br><br>\n"
   ]
  }
 ],
 "metadata": {
  "kernelspec": {
   "display_name": "Python 3",
   "language": "python",
   "name": "python3"
  },
  "language_info": {
   "codemirror_mode": {
    "name": "ipython",
    "version": 3
   },
   "file_extension": ".py",
   "mimetype": "text/x-python",
   "name": "python",
   "nbconvert_exporter": "python",
   "pygments_lexer": "ipython3",
   "version": "3.7.0"
  }
 },
 "nbformat": 4,
 "nbformat_minor": 2
}
