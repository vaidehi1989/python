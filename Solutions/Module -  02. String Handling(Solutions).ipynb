{
 "cells": [
  {
   "cell_type": "markdown",
   "metadata": {},
   "source": [
    "## String Handling"
   ]
  },
  {
   "cell_type": "markdown",
   "metadata": {},
   "source": [
    "### Ex. Iterate over all the characters of a String"
   ]
  },
  {
   "cell_type": "code",
   "execution_count": 1,
   "metadata": {},
   "outputs": [
    {
     "name": "stdout",
     "output_type": "stream",
     "text": [
      "A e r o p l a n e "
     ]
    }
   ],
   "source": [
    "mystr = \"Aeroplane\"\n",
    "for i in mystr:\n",
    "    print(i, end = \" \")"
   ]
  },
  {
   "cell_type": "markdown",
   "metadata": {},
   "source": [
    "### Ex. WAP to change a given string to a new string where the first and last chars have been exchanged"
   ]
  },
  {
   "cell_type": "code",
   "execution_count": 6,
   "metadata": {},
   "outputs": [
    {
     "name": "stdout",
     "output_type": "stream",
     "text": [
      "iumbaM\n"
     ]
    }
   ],
   "source": [
    "mystr = \"Mumbai\"\n",
    "new_mystr = mystr[-1] + mystr[1:-1] + mystr[0]\n",
    "print(new_mystr)"
   ]
  },
  {
   "cell_type": "markdown",
   "metadata": {},
   "source": [
    "### Ex. Write a Python program to count the occurrences of character 'a' in a given word 'aeroplane'."
   ]
  },
  {
   "cell_type": "code",
   "execution_count": 7,
   "metadata": {},
   "outputs": [
    {
     "data": {
      "text/plain": [
       "2"
      ]
     },
     "execution_count": 7,
     "metadata": {},
     "output_type": "execute_result"
    }
   ],
   "source": [
    "word = \"aeroplane\"\n",
    "word.count('a')"
   ]
  },
  {
   "cell_type": "markdown",
   "metadata": {},
   "source": [
    "### Ex. WAP to check if entered string is palindrome or not."
   ]
  },
  {
   "cell_type": "code",
   "execution_count": 10,
   "metadata": {},
   "outputs": [
    {
     "name": "stdout",
     "output_type": "stream",
     "text": [
      "Enter a string : madam\n",
      "madam is a palindrome\n"
     ]
    }
   ],
   "source": [
    "string = input(\"Enter a string : \")\n",
    "print(string, \"is\" if string == string[::-1] else \"is not\", \"a palindrome\" )"
   ]
  },
  {
   "cell_type": "markdown",
   "metadata": {},
   "source": [
    "### Ex. WAP to print following pattern from the given string.\n",
    "mystr = \"I am in Python class\"\n",
    "\n",
    "output : class Python in am I "
   ]
  },
  {
   "cell_type": "code",
   "execution_count": 13,
   "metadata": {},
   "outputs": [
    {
     "name": "stdout",
     "output_type": "stream",
     "text": [
      "class Python in am I\n"
     ]
    }
   ],
   "source": [
    "mystr = \"I am in Python class\"\n",
    "\n",
    "pattern = \" \".join(reversed(mystr.split(\" \"))) \n",
    "print(pattern)"
   ]
  }
 ],
 "metadata": {
  "kernelspec": {
   "display_name": "Python 3",
   "language": "python",
   "name": "python3"
  },
  "language_info": {
   "codemirror_mode": {
    "name": "ipython",
    "version": 3
   },
   "file_extension": ".py",
   "mimetype": "text/x-python",
   "name": "python",
   "nbconvert_exporter": "python",
   "pygments_lexer": "ipython3",
   "version": "3.7.0"
  }
 },
 "nbformat": 4,
 "nbformat_minor": 2
}
