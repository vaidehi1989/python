{
 "cells": [
  {
   "cell_type": "markdown",
   "metadata": {},
   "source": [
    "#### Ex. WAP to store names of all cricketers in the ascending order of their batting sequence. "
   ]
  },
  {
   "cell_type": "code",
   "execution_count": 37,
   "metadata": {},
   "outputs": [
    {
     "name": "stdout",
     "output_type": "stream",
     "text": [
      "No of players in the team :  11\n",
      "['Rohit Sharma', 'Shikhar Dhawan', 'Virat Kohli', 'MS Dhoni', 'Ambati Rayudu', 'Ravindra Jadeja', 'Bhuvneshwar Kumar', 'Jasprit Bumrah', 'Yuzvendra Chahal', 'Umesh Yadav', 'Kuldeep Yadav']\n",
      "Rohit Sharma Shikhar Dhawan Virat Kohli MS Dhoni Ambati Rayudu Ravindra Jadeja Bhuvneshwar Kumar Jasprit Bumrah Yuzvendra Chahal Umesh Yadav Kuldeep Yadav "
     ]
    }
   ],
   "source": [
    "team_india = ['Rohit Sharma', 'Shikhar Dhawan', 'Virat Kohli', 'MS Dhoni', 'Ambati Rayudu',\n",
    "'Ravindra Jadeja', 'Bhuvneshwar Kumar', 'Jasprit Bumrah', 'Yuzvendra Chahal', 'Umesh Yadav', 'Kuldeep Yadav']\n",
    "print(\"No of players in the team : \", len(team_india))\n",
    "print(team_india)\n",
    "for player in team_india:\n",
    "    print(player, end=\" \")"
   ]
  },
  {
   "cell_type": "code",
   "execution_count": 18,
   "metadata": {},
   "outputs": [
    {
     "name": "stdout",
     "output_type": "stream",
     "text": [
      "(1, 'Rohit Sharma')\n",
      "(2, 'Shikhar Dhawan')\n",
      "(3, 'Virat Kohli')\n",
      "(4, 'MS Dhoni')\n",
      "(5, 'Ambati Rayudu')\n",
      "(6, 'Ravindra Jadeja')\n",
      "(7, 'Bhuvneshwar Kumar')\n",
      "(8, 'Jasprit Bumrah')\n",
      "(9, 'Yuzvendra Chahal')\n",
      "(10, 'Umesh Yadav')\n",
      "(11, 'Kuldeep Yadav')\n"
     ]
    }
   ],
   "source": [
    "for i in enumerate(team_india, start = 1):\n",
    "    print(i)"
   ]
  },
  {
   "cell_type": "code",
   "execution_count": 36,
   "metadata": {},
   "outputs": [
    {
     "name": "stdout",
     "output_type": "stream",
     "text": [
      "[2, 3]\n",
      "bc\n"
     ]
    }
   ],
   "source": [
    "l = ['abc',10,[1,2,3]]\n",
    "print(l[2][1:])\n",
    "print(l[0][1:])"
   ]
  },
  {
   "cell_type": "markdown",
   "metadata": {},
   "source": [
    "#### Ex. Name of the player should be displayed when his batting sequence number is entered. "
   ]
  },
  {
   "cell_type": "code",
   "execution_count": 40,
   "metadata": {},
   "outputs": [
    {
     "name": "stdout",
     "output_type": "stream",
     "text": [
      "Enter player no : 5\n",
      "Ambati Rayudu\n"
     ]
    }
   ],
   "source": [
    "player_no = int(input(\"Enter player no : \"))\n",
    "print(team_india[player_no-1])"
   ]
  },
  {
   "cell_type": "markdown",
   "metadata": {},
   "source": [
    "#### Ex. Display batting sequence number of the player when his name is provided."
   ]
  },
  {
   "cell_type": "code",
   "execution_count": 42,
   "metadata": {},
   "outputs": [
    {
     "name": "stdout",
     "output_type": "stream",
     "text": [
      "5\n"
     ]
    }
   ],
   "source": [
    "print(team_india.index(\"Ambati Rayudu\")+1)"
   ]
  },
  {
   "cell_type": "markdown",
   "metadata": {},
   "source": [
    "#### Ex. Display name of strongest and the weakest batsman"
   ]
  },
  {
   "cell_type": "code",
   "execution_count": null,
   "metadata": {},
   "outputs": [],
   "source": [
    "l[0]\n",
    "l[-1]"
   ]
  },
  {
   "cell_type": "markdown",
   "metadata": {},
   "source": [
    "#### Ex. Obtain list of all bowlers. (Hint: Bowlers are the last 4 players in batting sequence)"
   ]
  },
  {
   "cell_type": "code",
   "execution_count": 44,
   "metadata": {},
   "outputs": [
    {
     "data": {
      "text/plain": [
       "['Jasprit Bumrah', 'Yuzvendra Chahal', 'Umesh Yadav', 'Kuldeep Yadav']"
      ]
     },
     "execution_count": 44,
     "metadata": {},
     "output_type": "execute_result"
    }
   ],
   "source": [
    "team_india[-4:]"
   ]
  },
  {
   "cell_type": "markdown",
   "metadata": {},
   "source": [
    "#### Ex. Player no. 5 is injured and should be replaced by another player."
   ]
  },
  {
   "cell_type": "code",
   "execution_count": 46,
   "metadata": {},
   "outputs": [
    {
     "data": {
      "text/plain": [
       "['Rohit Sharma',\n",
       " 'Shikhar Dhawan',\n",
       " 'Virat Kohli',\n",
       " 'MS Dhoni',\n",
       " 'Rishab Pant',\n",
       " 'Ravindra Jadeja',\n",
       " 'Bhuvneshwar Kumar',\n",
       " 'Jasprit Bumrah',\n",
       " 'Yuzvendra Chahal',\n",
       " 'Umesh Yadav',\n",
       " 'Kuldeep Yadav']"
      ]
     },
     "execution_count": 46,
     "metadata": {},
     "output_type": "execute_result"
    }
   ],
   "source": [
    "team_india[4] = 'Rishab Pant'\n",
    "team_india"
   ]
  },
  {
   "cell_type": "markdown",
   "metadata": {},
   "source": [
    "#### Ex. A complete new set of top 5 batsmen is recruited. Remove older 5 batsmen and join the 2 lists.\n",
    "new_players=['Shikhar Dhawan', 'Rohit Sharma', 'Prithvi Shaw', 'Rishab Pant', 'Dinesh Karthik']"
   ]
  },
  {
   "cell_type": "code",
   "execution_count": 48,
   "metadata": {},
   "outputs": [
    {
     "name": "stdout",
     "output_type": "stream",
     "text": [
      "['Shikhar Dhawan', 'Rohit Sharma', 'Prithvi Shaw', 'Rishab Pant', 'Dinesh Karthik', 'Ravindra Jadeja', 'Bhuvneshwar Kumar', 'Jasprit Bumrah', 'Yuzvendra Chahal', 'Umesh Yadav', 'Kuldeep Yadav']\n"
     ]
    }
   ],
   "source": [
    "new_players=['Shikhar Dhawan', 'Rohit Sharma', 'Prithvi Shaw', 'Rishab Pant', 'Dinesh Karthik']\n",
    "# new_team = new_players + team_india[5:]\n",
    "new_players.extend(team_india[5:])\n",
    "print(new_players)"
   ]
  },
  {
   "cell_type": "code",
   "execution_count": 52,
   "metadata": {},
   "outputs": [
    {
     "name": "stdout",
     "output_type": "stream",
     "text": [
      "[1, 2, 3, 4, 5, 6, 7, 'H', 'e', 'l', 'l', 'o', 'c', 'b', 'a']\n"
     ]
    }
   ],
   "source": [
    "l = [1,2,3,4]\n",
    "l.extend([5,6,7])\n",
    "l.extend(\"Hello\")\n",
    "l.extend(reversed(\"abc\"))\n",
    "# l.extend(70)\n",
    "print(l)"
   ]
  },
  {
   "cell_type": "code",
   "execution_count": 55,
   "metadata": {},
   "outputs": [
    {
     "name": "stdout",
     "output_type": "stream",
     "text": [
      "[1, 2, 3, 4, [5, 6, 7], 'Hello', 'cba', 70]\n"
     ]
    }
   ],
   "source": [
    "l = [1,2,3,4]\n",
    "l.append([5,6,7])\n",
    "l.append(\"Hello\")\n",
    "l.append(\"\".join(reversed(\"abc\")))\n",
    "l.append(70)\n",
    "print(l)"
   ]
  },
  {
   "cell_type": "code",
   "execution_count": 59,
   "metadata": {},
   "outputs": [
    {
     "name": "stdout",
     "output_type": "stream",
     "text": [
      "[1, 4, 5]\n"
     ]
    }
   ],
   "source": [
    "l= [1,2,3]\n",
    "# l[1]= 5\n",
    "l[1:3] = [4,5]\n",
    "# l.insert(1,5)\n",
    "print(l)"
   ]
  },
  {
   "cell_type": "code",
   "execution_count": 61,
   "metadata": {},
   "outputs": [
    {
     "data": {
      "text/plain": [
       "2"
      ]
     },
     "execution_count": 61,
     "metadata": {},
     "output_type": "execute_result"
    }
   ],
   "source": [
    "l= [1,2,3]\n",
    "# del l\n",
    "# del l[1]\n",
    "# del l[1:3]\n",
    "\n",
    "l.pop()\n",
    "l.pop(1)\n",
    "l.remove(3)"
   ]
  },
  {
   "cell_type": "markdown",
   "metadata": {},
   "source": [
    "#### Ex. Sort the list of players in ascecnding order of their names"
   ]
  },
  {
   "cell_type": "code",
   "execution_count": 64,
   "metadata": {},
   "outputs": [
    {
     "name": "stdout",
     "output_type": "stream",
     "text": [
      "['Ambati Rayudu', 'Bhuvneshwar Kumar', 'Jasprit Bumrah', 'Kuldeep Yadav', 'MS Dhoni', 'Ravindra Jadeja', 'Rohit Sharma', 'Shikhar Dhawan', 'Umesh Yadav', 'Virat Kohli', 'Yuzvendra Chahal']\n"
     ]
    }
   ],
   "source": [
    "team_india = ['Rohit Sharma', 'Shikhar Dhawan', 'Virat Kohli', 'MS Dhoni', 'Ambati Rayudu',\n",
    "'Ravindra Jadeja', 'Bhuvneshwar Kumar', 'Jasprit Bumrah', 'Yuzvendra Chahal', 'Umesh Yadav', 'Kuldeep Yadav']\n",
    "\n",
    "team_india.sort(reverse= True)\n",
    "l = sorted(team_india, reverse=True)\n",
    "list(reversed(team_india))\n",
    "print(l)"
   ]
  },
  {
   "cell_type": "markdown",
   "metadata": {},
   "source": [
    "### Task 1\n",
    "1. Create a list of 5 guests for the party(taking values from user)\n",
    "2. Add laste entry of 3 more guests.\n",
    "3. Print all the members in sorted order.\n",
    "\n",
    "### Task 2\n",
    "input = 123456789\n",
    "output = 12,34,56,789"
   ]
  },
  {
   "cell_type": "markdown",
   "metadata": {},
   "source": [
    "### Ex. Example on Tuple"
   ]
  },
  {
   "cell_type": "code",
   "execution_count": 72,
   "metadata": {},
   "outputs": [
    {
     "name": "stdout",
     "output_type": "stream",
     "text": [
      "(1, 2, 'a', [14, 10])\n"
     ]
    }
   ],
   "source": [
    "# # t = tuple()\n",
    "# # t = ()\n",
    "# t = (6,2,8,4)\n",
    "# s = tuple(sorted(t))\n",
    "\n",
    "# len\n",
    "# max\n",
    "# min\n",
    "# sum\n",
    "\n",
    "# t.count\n",
    "# t.index\n",
    "\n",
    "t = (1,2,'a',[14,20])\n",
    "t[3][1] = 10\n",
    "print(t)"
   ]
  },
  {
   "cell_type": "markdown",
   "metadata": {},
   "source": [
    "#### Ex. WAP to print common elements in the following 2 lists\n",
    "a = [1, 1, 2, 3, 5, 8, 13] <br>\n",
    "b = [1, 2, 3, 4, 5, 6, 7]"
   ]
  },
  {
   "cell_type": "code",
   "execution_count": null,
   "metadata": {},
   "outputs": [],
   "source": []
  },
  {
   "cell_type": "markdown",
   "metadata": {},
   "source": [
    "### Ex. Creating a collection of five countires and their currencies."
   ]
  },
  {
   "cell_type": "code",
   "execution_count": 7,
   "metadata": {},
   "outputs": [],
   "source": [
    "country_currency = {'India': 'Rupees', 'Italy': 'Euros', 'Thailand': 'Bhat','UK': 'GBP', 'USA': 'Dollars','France': 'Euros'}"
   ]
  },
  {
   "cell_type": "markdown",
   "metadata": {},
   "source": [
    "#### Ex. Displaying the currency when country name is entered. Also displaying sutaible message if the country doesnt exists."
   ]
  },
  {
   "cell_type": "code",
   "execution_count": null,
   "metadata": {},
   "outputs": [],
   "source": []
  },
  {
   "cell_type": "markdown",
   "metadata": {},
   "source": [
    "#### Ex. Displaying all the countries and their currenciers."
   ]
  },
  {
   "cell_type": "code",
   "execution_count": null,
   "metadata": {},
   "outputs": [],
   "source": []
  },
  {
   "cell_type": "markdown",
   "metadata": {},
   "source": [
    "#### Ex. Sorting the dictionary."
   ]
  },
  {
   "cell_type": "code",
   "execution_count": null,
   "metadata": {},
   "outputs": [],
   "source": []
  }
 ],
 "metadata": {
  "kernelspec": {
   "display_name": "Python 3",
   "language": "python",
   "name": "python3"
  },
  "language_info": {
   "codemirror_mode": {
    "name": "ipython",
    "version": 3
   },
   "file_extension": ".py",
   "mimetype": "text/x-python",
   "name": "python",
   "nbconvert_exporter": "python",
   "pygments_lexer": "ipython3",
   "version": "3.7.0"
  }
 },
 "nbformat": 4,
 "nbformat_minor": 2
}
