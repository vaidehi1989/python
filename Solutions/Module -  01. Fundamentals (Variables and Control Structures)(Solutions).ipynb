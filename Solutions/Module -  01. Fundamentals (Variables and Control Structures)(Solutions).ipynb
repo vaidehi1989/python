{
 "cells": [
  {
   "cell_type": "markdown",
   "metadata": {},
   "source": [
    "### Ex : Printing \"Hello World\" on console"
   ]
  },
  {
   "cell_type": "code",
   "execution_count": 1,
   "metadata": {},
   "outputs": [
    {
     "name": "stdout",
     "output_type": "stream",
     "text": [
      "Hello World!!\n"
     ]
    }
   ],
   "source": [
    "print(\"Hello World!!\")"
   ]
  },
  {
   "cell_type": "markdown",
   "metadata": {},
   "source": [
    "### Ex : Take name of the user as input from user and print a welcome message"
   ]
  },
  {
   "cell_type": "code",
   "execution_count": 2,
   "metadata": {},
   "outputs": [
    {
     "name": "stdout",
     "output_type": "stream",
     "text": [
      "Enter your name : Vaidehi\n",
      "Welcome Vaidehi\n"
     ]
    }
   ],
   "source": [
    "name = input(\"Enter your name : \")\n",
    "print(\"Welcome\", name)"
   ]
  },
  {
   "cell_type": "markdown",
   "metadata": {},
   "source": [
    "### Ex: Building Simple calculator application"
   ]
  },
  {
   "cell_type": "code",
   "execution_count": 4,
   "metadata": {},
   "outputs": [
    {
     "name": "stdout",
     "output_type": "stream",
     "text": [
      "Enter first no : 2\n",
      "Enter second no : 3\n",
      "Select operation : \n",
      "1. Addition\n",
      "2. Substraction\n",
      "3. Multiplication\n",
      "4. Division\n",
      "1\n",
      "Addition =  5\n"
     ]
    }
   ],
   "source": [
    "a = int(input(\"Enter first no : \"))\n",
    "b = int(input(\"Enter second no : \"))\n",
    "operator = int(input(\"Select operation : \\n1. Addition\\n2. Substraction\\n3. Multiplication\\n4. Division\\n\"))\n",
    "if operator == 1:\n",
    "    print(\"Addition = \", (a+b))\n",
    "elif operator == 2:\n",
    "    print(\"Substraction = \", (a-b))\n",
    "elif operator == 3:\n",
    "    print(\"Multiplication = \", (a*b))\n",
    "elif operator == 4:\n",
    "    print(\"Division = \", (a/b))\n",
    "else:\n",
    "    print(\"Invalid operator\")"
   ]
  },
  {
   "cell_type": "markdown",
   "metadata": {},
   "source": [
    "### Ex : Toss a coin and guess the outcome"
   ]
  },
  {
   "cell_type": "code",
   "execution_count": 6,
   "metadata": {},
   "outputs": [
    {
     "name": "stdout",
     "output_type": "stream",
     "text": [
      "Enter your guess as 'Heads' or 'Tails' : Heads\n",
      "Correct Guess\n"
     ]
    }
   ],
   "source": [
    "import random as r\n",
    "\n",
    "toss_outcome = r.choice(['Heads', 'Tails'])\n",
    "user_guess = input(\"Enter your guess as 'Heads' or 'Tails' : \")\n",
    "\n",
    "if toss_outcome == user_guess :\n",
    "    print(\"Correct Guess\")\n",
    "else:\n",
    "    print(\"Opps!! Better luck next tym\")    "
   ]
  },
  {
   "cell_type": "markdown",
   "metadata": {},
   "source": [
    "### Ex : Printing prime numbers between 1 to 100"
   ]
  },
  {
   "cell_type": "code",
   "execution_count": 7,
   "metadata": {},
   "outputs": [
    {
     "name": "stdout",
     "output_type": "stream",
     "text": [
      "2 3 5 7 11 13 17 19 23 29 31 37 41 43 47 53 59 61 67 71 73 79 83 89 97 "
     ]
    }
   ],
   "source": [
    "import math as m\n",
    "\n",
    "for n in range(2,101):\n",
    "    for i in range(2, int(m.sqrt(n))+1):\n",
    "        if n % i == 0:\n",
    "            break\n",
    "    else:\n",
    "        print(n, end = \" \")"
   ]
  },
  {
   "cell_type": "markdown",
   "metadata": {},
   "source": [
    "### Ex : Fibonacci Series\n",
    "a. First n terms in the series. <br>\n",
    "b. Last term in the series if less than or equal to n."
   ]
  },
  {
   "cell_type": "code",
   "execution_count": 9,
   "metadata": {},
   "outputs": [
    {
     "name": "stdout",
     "output_type": "stream",
     "text": [
      "Enter a number : 10\n",
      "0 1 1 2 3 5 8 13 21 34 "
     ]
    }
   ],
   "source": [
    "#  First n terms in the series. \n",
    "\n",
    "n = int(input(\"Enter a number : \"))\n",
    "first = 0\n",
    "second = 1\n",
    "for i in range(n):\n",
    "    print(first, end = \" \")\n",
    "    third = first + second\n",
    "    first = second\n",
    "    second = third"
   ]
  },
  {
   "cell_type": "code",
   "execution_count": 10,
   "metadata": {},
   "outputs": [
    {
     "name": "stdout",
     "output_type": "stream",
     "text": [
      "Enter a number : 10\n",
      "0 1 1 2 3 5 8 "
     ]
    }
   ],
   "source": [
    "#  Last term in the series if less than or equal to n.\n",
    "\n",
    "n = int(input(\"Enter a number : \"))\n",
    "first = 0\n",
    "second = 1\n",
    "while first < n :\n",
    "    print(first, end = \" \")\n",
    "    third = first + second\n",
    "    first = second\n",
    "    second = third"
   ]
  }
 ],
 "metadata": {
  "kernelspec": {
   "display_name": "Python 3",
   "language": "python",
   "name": "python3"
  },
  "language_info": {
   "codemirror_mode": {
    "name": "ipython",
    "version": 3
   },
   "file_extension": ".py",
   "mimetype": "text/x-python",
   "name": "python",
   "nbconvert_exporter": "python",
   "pygments_lexer": "ipython3",
   "version": "3.7.0"
  }
 },
 "nbformat": 4,
 "nbformat_minor": 2
}
