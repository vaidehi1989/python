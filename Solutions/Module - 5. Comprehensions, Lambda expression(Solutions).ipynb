{
 "cells": [
  {
   "cell_type": "markdown",
   "metadata": {},
   "source": [
    "## Comprehensions"
   ]
  },
  {
   "cell_type": "markdown",
   "metadata": {},
   "source": [
    "#### Ex. WAP to generate a list of squares of first 10 numbers."
   ]
  },
  {
   "cell_type": "code",
   "execution_count": 5,
   "metadata": {},
   "outputs": [
    {
     "name": "stdout",
     "output_type": "stream",
     "text": [
      "(1, 4, 9, 16, 25, 36, 49, 64, 81, 100)\n"
     ]
    }
   ],
   "source": [
    "l = [i**2 for i in range(1,11)]\n",
    "print(l)"
   ]
  },
  {
   "cell_type": "markdown",
   "metadata": {},
   "source": [
    "#### Ex. WAP to print all the vowels present in the word entered by user."
   ]
  },
  {
   "cell_type": "code",
   "execution_count": 2,
   "metadata": {},
   "outputs": [
    {
     "name": "stdout",
     "output_type": "stream",
     "text": [
      "enter a wordMumbai\n",
      "{'u', 'i', 'a'}\n"
     ]
    }
   ],
   "source": [
    "word = input(\"enter a word\")\n",
    "print({i for i in word if i in \"aeiou\"})"
   ]
  },
  {
   "cell_type": "markdown",
   "metadata": {},
   "source": [
    "#### Ex. WAP to create a list of lenght of each element of the list."
   ]
  },
  {
   "cell_type": "code",
   "execution_count": 6,
   "metadata": {},
   "outputs": [
    {
     "name": "stdout",
     "output_type": "stream",
     "text": [
      "[3, 4, 5, 9]\n"
     ]
    }
   ],
   "source": [
    "l = ['car', 'bike', 'house', 'aeroplane']\n",
    "print([len(i) for i in l])"
   ]
  },
  {
   "cell_type": "markdown",
   "metadata": {},
   "source": [
    "#### Ex. WAP to create a dictionary using following 2 lists.\n",
    "country = ['India', 'Pakistan', 'Nepal', 'Bhutan', 'China', 'Bangladesh'] <br>\n",
    "capital = ['New Delhi', 'Islamabad','Kathmandu', 'Thimphu', 'Beijing', 'Dhaka']"
   ]
  },
  {
   "cell_type": "code",
   "execution_count": 7,
   "metadata": {},
   "outputs": [
    {
     "name": "stdout",
     "output_type": "stream",
     "text": [
      "{'India': 'New Delhi', 'Pakistan': 'Islamabad', 'Nepal': 'Kathmandu', 'Bhutan': 'Thimphu', 'China': 'Beijing', 'Bangladesh': 'Dhaka'}\n"
     ]
    }
   ],
   "source": [
    "country = ['India', 'Pakistan', 'Nepal', 'Bhutan', 'China', 'Bangladesh']\n",
    "capital = ['New Delhi', 'Islamabad','Kathmandu', 'Thimphu', 'Beijing', 'Dhaka']\n",
    "d = {x:y for x,y in zip(country,capital)}\n",
    "print(d)"
   ]
  },
  {
   "cell_type": "markdown",
   "metadata": {},
   "source": [
    "## Lambda expression"
   ]
  },
  {
   "cell_type": "markdown",
   "metadata": {},
   "source": [
    "#### Ex. Sum of 2 numbers"
   ]
  },
  {
   "cell_type": "code",
   "execution_count": 8,
   "metadata": {},
   "outputs": [
    {
     "data": {
      "text/plain": [
       "5"
      ]
     },
     "execution_count": 8,
     "metadata": {},
     "output_type": "execute_result"
    }
   ],
   "source": [
    "func = lambda x,y : x+y\n",
    "func(2,3)"
   ]
  },
  {
   "cell_type": "markdown",
   "metadata": {},
   "source": [
    "#### Ex. Sort list l = ['car', 'bike', 'house', 'aeroplane'] on size of each element."
   ]
  },
  {
   "cell_type": "code",
   "execution_count": 12,
   "metadata": {},
   "outputs": [
    {
     "name": "stdout",
     "output_type": "stream",
     "text": [
      "['car', 'bike', 'house', 'aeroplane']\n"
     ]
    }
   ],
   "source": [
    "l = ['house', 'car', 'aeroplane', 'bike']\n",
    "l.sort(key=len)\n",
    "print(l)"
   ]
  },
  {
   "cell_type": "markdown",
   "metadata": {},
   "source": [
    "#### Ex. WAP to obtain a sorted dictionary for d based on the capitals.\n",
    "d = {'India': 'New Delhi', 'Pakistan': 'Islamabad', 'Nepal': 'Kathmandu', 'Bhutan': 'Thimphu', 'China': 'Beijing', 'Bangladesh': 'Dhaka'} "
   ]
  },
  {
   "cell_type": "code",
   "execution_count": 15,
   "metadata": {},
   "outputs": [
    {
     "name": "stdout",
     "output_type": "stream",
     "text": [
      "{'Bangladesh': 'Dhaka', 'Bhutan': 'Thimphu', 'China': 'Beijing', 'India': 'New Delhi', 'Nepal': 'Kathmandu', 'Pakistan': 'Islamabad'}\n",
      "[('China', 'Beijing'), ('Bangladesh', 'Dhaka'), ('Pakistan', 'Islamabad'), ('Nepal', 'Kathmandu'), ('India', 'New Delhi'), ('Bhutan', 'Thimphu')]\n"
     ]
    }
   ],
   "source": [
    "d = {'India': 'New Delhi', 'Pakistan': 'Islamabad', 'Nepal': 'Kathmandu', 'Bhutan': 'Thimphu', 'China': 'Beijing', 'Bangladesh': 'Dhaka'}\n",
    "d_sorted_keys = {key : d[key] for key in sorted(d)}\n",
    "print(d_sorted_keys)\n",
    "\n",
    "d_sorted_values = sorted(d.items(), key=lambda x : x[1])\n",
    "print(d_sorted_values)"
   ]
  },
  {
   "cell_type": "markdown",
   "metadata": {},
   "source": [
    "#### Ex. WAP to create a dictionary using following 2 lists. (Using map())\n",
    "country = ['India', 'Pakistan', 'Nepal', 'Bhutan', 'China', 'Bangladesh'] <br>\n",
    "capital = ['New Delhi', 'Islamabad','Kathmandu', 'Thimphu', 'Beijing', 'Dhaka']\n",
    "\n"
   ]
  },
  {
   "cell_type": "code",
   "execution_count": 31,
   "metadata": {},
   "outputs": [
    {
     "data": {
      "text/plain": [
       "{'India': 'New Delhi',\n",
       " 'Pakistan': 'Islamabad',\n",
       " 'Nepal': 'Kathmandu',\n",
       " 'Bhutan': 'Thimphu',\n",
       " 'China': 'Beijing',\n",
       " 'Bangladesh': 'Dhaka'}"
      ]
     },
     "execution_count": 31,
     "metadata": {},
     "output_type": "execute_result"
    }
   ],
   "source": [
    "country = ['India', 'Pakistan', 'Nepal', 'Bhutan', 'China', 'Bangladesh'] \n",
    "capital = ['New Delhi', 'Islamabad','Kathmandu', 'Thimphu', 'Beijing', 'Dhaka']\n",
    "\n",
    "dict(map(lambda x : (x, capital[country.index(x)]), country))\n",
    "# OR\n",
    "dict(map(lambda x : (x[0],x[1]), zip(country, capital)))\n",
    "# OR\n",
    "dict(zip(country, capital))"
   ]
  },
  {
   "cell_type": "markdown",
   "metadata": {},
   "source": [
    "#### Ex. Filter list l to elements of size <= 4.\n",
    "l = ['house', 'car', 'aeroplane', 'bike']"
   ]
  },
  {
   "cell_type": "code",
   "execution_count": 17,
   "metadata": {},
   "outputs": [
    {
     "name": "stdout",
     "output_type": "stream",
     "text": [
      "['car', 'bike']\n"
     ]
    }
   ],
   "source": [
    "l = ['house', 'car', 'aeroplane', 'bike']\n",
    "l1 = list(filter(lambda x : len(x) <= 4 , l))\n",
    "print(l1)"
   ]
  },
  {
   "cell_type": "markdown",
   "metadata": {},
   "source": [
    "#### Ex. WAP to filter all int elements from the list.\n",
    "l = [1,'abc', 'India', 45, 32]"
   ]
  },
  {
   "cell_type": "code",
   "execution_count": 20,
   "metadata": {},
   "outputs": [
    {
     "name": "stdout",
     "output_type": "stream",
     "text": [
      "[1, 45, 32]\n"
     ]
    }
   ],
   "source": [
    "l = [1,'abc', 'India', 45, 32]\n",
    "l1 = list(filter(lambda x : x.__class__ == int, l))\n",
    "print(l1)"
   ]
  },
  {
   "cell_type": "markdown",
   "metadata": {},
   "source": [
    "#### Ex. WAP to find factorial using reduce function"
   ]
  },
  {
   "cell_type": "code",
   "execution_count": 32,
   "metadata": {},
   "outputs": [
    {
     "name": "stdout",
     "output_type": "stream",
     "text": [
      "120\n"
     ]
    }
   ],
   "source": [
    "from functools import reduce\n",
    "\n",
    "print(reduce(lambda x, y : x*y, range(1,6)))"
   ]
  },
  {
   "cell_type": "markdown",
   "metadata": {},
   "source": [
    "#### Ex. WAP to accept 5 strings and reduce them to for a single string"
   ]
  },
  {
   "cell_type": "code",
   "execution_count": 33,
   "metadata": {},
   "outputs": [
    {
     "name": "stdout",
     "output_type": "stream",
     "text": [
      "Enter stringa\n",
      "Enter string3\n",
      "Enter stringd\n",
      "Enter strings\n",
      "Enter stringwty\n",
      "a3dswty\n"
     ]
    }
   ],
   "source": [
    "from functools import reduce\n",
    "\n",
    "print(reduce(lambda x, y : x + y, [input(\"Enter string\") for i in range(5)]))"
   ]
  },
  {
   "cell_type": "markdown",
   "metadata": {},
   "source": [
    "#### Ex. Building fibonacci series using reduce()"
   ]
  },
  {
   "cell_type": "code",
   "execution_count": 48,
   "metadata": {},
   "outputs": [
    {
     "name": "stdout",
     "output_type": "stream",
     "text": [
      "2\n"
     ]
    }
   ],
   "source": [
    "from functools import reduce\n",
    "\n",
    "print(reduce(lambda x, _ : x + _, range(2,3)))"
   ]
  },
  {
   "cell_type": "code",
   "execution_count": null,
   "metadata": {},
   "outputs": [],
   "source": []
  }
 ],
 "metadata": {
  "kernelspec": {
   "display_name": "Python 3",
   "language": "python",
   "name": "python3"
  },
  "language_info": {
   "codemirror_mode": {
    "name": "ipython",
    "version": 3
   },
   "file_extension": ".py",
   "mimetype": "text/x-python",
   "name": "python",
   "nbconvert_exporter": "python",
   "pygments_lexer": "ipython3",
   "version": "3.7.0"
  }
 },
 "nbformat": 4,
 "nbformat_minor": 2
}
