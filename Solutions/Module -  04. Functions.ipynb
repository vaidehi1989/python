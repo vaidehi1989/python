{
 "cells": [
  {
   "cell_type": "markdown",
   "metadata": {},
   "source": [
    "#  Functions in Python"
   ]
  },
  {
   "cell_type": "markdown",
   "metadata": {},
   "source": [
    "### Ex. Write a python function to return factorial of a number"
   ]
  },
  {
   "cell_type": "code",
   "execution_count": null,
   "metadata": {},
   "outputs": [],
   "source": [
    "def factorial(n):\n",
    "    fact = 1\n",
    "    for i in range(1,n+1):\n",
    "        fact *= i\n",
    "    return fact\n",
    "print(factorial(5))"
   ]
  },
  {
   "cell_type": "code",
   "execution_count": null,
   "metadata": {},
   "outputs": [],
   "source": [
    "def factorial(n):\n",
    "    if n.__class__ == int:\n",
    "        fact = 1\n",
    "        for i in range(1,n+1):\n",
    "            fact *= i\n",
    "        return fact\n",
    "    else:\n",
    "        return \"value is not an int\"\n",
    "    \n",
    "print(factorial('abc'))"
   ]
  },
  {
   "cell_type": "markdown",
   "metadata": {},
   "source": [
    "### Ex. Demonstrate an example of nested function. Scope of variables."
   ]
  },
  {
   "cell_type": "code",
   "execution_count": null,
   "metadata": {},
   "outputs": [],
   "source": [
    "def outer():\n",
    "    a = 20\n",
    "    def inner():\n",
    "        global a\n",
    "        a = 30\n",
    "        print(\"inner function : \", a)\n",
    "    inner()\n",
    "    print(\"outer function : \", a)\n",
    "\n",
    "a = 10\n",
    "outer()\n",
    "print(\"main function : \", a)        "
   ]
  },
  {
   "cell_type": "code",
   "execution_count": 3,
   "metadata": {},
   "outputs": [
    {
     "name": "stdout",
     "output_type": "stream",
     "text": [
      "func2 20\n",
      "func1 20\n"
     ]
    }
   ],
   "source": [
    "def func1():\n",
    "#     global x    \n",
    "    print(\"func1\", x)\n",
    "    \n",
    "def func2():\n",
    "    global x\n",
    "#     x = 10\n",
    "    print(\"func2\", x)\n",
    "\n",
    "x = 20\n",
    "func2()\n",
    "func1()"
   ]
  },
  {
   "cell_type": "markdown",
   "metadata": {},
   "source": [
    "### Ex. Closures"
   ]
  },
  {
   "cell_type": "code",
   "execution_count": 10,
   "metadata": {},
   "outputs": [
    {
     "name": "stdout",
     "output_type": "stream",
     "text": [
      "hello func\n",
      "10\n"
     ]
    }
   ],
   "source": [
    "def func():\n",
    "    print(\"hello func\")\n",
    "    return 10\n",
    "\n",
    "x = func\n",
    "print(x())\n",
    "# print(x, type(x))"
   ]
  },
  {
   "cell_type": "code",
   "execution_count": 13,
   "metadata": {},
   "outputs": [
    {
     "name": "stdout",
     "output_type": "stream",
     "text": [
      "outer\n",
      "10\n"
     ]
    }
   ],
   "source": [
    "def outer():\n",
    "    print(\"outer\")\n",
    "    def inner():\n",
    "        print(\"Inner\")\n",
    "        return 10\n",
    "    return inner\n",
    "\n",
    "o = outer()  # 1\n",
    "print(o())   # 2\n",
    "print(o,type(o))"
   ]
  },
  {
   "cell_type": "code",
   "execution_count": 17,
   "metadata": {},
   "outputs": [
    {
     "name": "stdout",
     "output_type": "stream",
     "text": [
      "[0, 2, 8, 34, 144, 610, 2584, 10946, 46368, 196418]\n",
      "[0, 3, 21, 144, 987, 6765, 46368, 317811, 2178309, 14930352, 102334155, 701408733, 4807526976]\n"
     ]
    }
   ],
   "source": [
    "def fibo(n):\n",
    "    first = 0\n",
    "    second = 1\n",
    "    l = []\n",
    "    for i in range(n):\n",
    "        l.append(first)\n",
    "        third = first + second\n",
    "        first = second\n",
    "        second = third\n",
    "    def fibo_n(x):\n",
    "        l1 = []\n",
    "        for i in l:\n",
    "            if i % x == 0:\n",
    "                l1.append(i)\n",
    "        return l1\n",
    "    return fibo_n\n",
    "\n",
    "f = fibo(50)\n",
    "print(f(2)[:10])\n",
    "print(f(3))"
   ]
  },
  {
   "cell_type": "markdown",
   "metadata": {},
   "source": [
    "### Ex. Parameter passing mechanisms in Python."
   ]
  },
  {
   "cell_type": "markdown",
   "metadata": {},
   "source": [
    "#### 1. Positional Arguments\n",
    "Ex. Write a python function to perform sum of 2 numbers."
   ]
  },
  {
   "cell_type": "code",
   "execution_count": 23,
   "metadata": {},
   "outputs": [
    {
     "ename": "TypeError",
     "evalue": "sum_of_2_nos() missing 1 required positional argument: 'b'",
     "output_type": "error",
     "traceback": [
      "\u001b[1;31m---------------------------------------------------------------------------\u001b[0m",
      "\u001b[1;31mTypeError\u001b[0m                                 Traceback (most recent call last)",
      "\u001b[1;32m<ipython-input-23-19ada4bef2b3>\u001b[0m in \u001b[0;36m<module>\u001b[1;34m()\u001b[0m\n\u001b[0;32m      2\u001b[0m     \u001b[1;32mreturn\u001b[0m \u001b[0ma\u001b[0m\u001b[1;33m+\u001b[0m\u001b[0mb\u001b[0m\u001b[1;33m\u001b[0m\u001b[0m\n\u001b[0;32m      3\u001b[0m \u001b[1;33m\u001b[0m\u001b[0m\n\u001b[1;32m----> 4\u001b[1;33m \u001b[0mprint\u001b[0m\u001b[1;33m(\u001b[0m\u001b[0msum_of_2_nos\u001b[0m\u001b[1;33m(\u001b[0m\u001b[1;36m1\u001b[0m\u001b[1;33m)\u001b[0m\u001b[1;33m)\u001b[0m\u001b[1;33m\u001b[0m\u001b[0m\n\u001b[0m",
      "\u001b[1;31mTypeError\u001b[0m: sum_of_2_nos() missing 1 required positional argument: 'b'"
     ]
    }
   ],
   "source": [
    "def sum_of_2_nos(a, b):\n",
    "    return a+b\n",
    "\n",
    "print(sum_of_2_nos(1))"
   ]
  },
  {
   "cell_type": "markdown",
   "metadata": {},
   "source": [
    "#### 2. Default Arguments\n",
    "Ex. Write a python function to perform sum of 2 numbers. Keep one number as default 10 "
   ]
  },
  {
   "cell_type": "code",
   "execution_count": 27,
   "metadata": {},
   "outputs": [
    {
     "name": "stdout",
     "output_type": "stream",
     "text": [
      "11\n"
     ]
    }
   ],
   "source": [
    "def sum_of_2_nos(a, b = 10):\n",
    "    return a+b\n",
    "\n",
    "print(sum_of_2_nos(1))"
   ]
  },
  {
   "cell_type": "markdown",
   "metadata": {},
   "source": [
    "#### 3. Keyword Arguments"
   ]
  },
  {
   "cell_type": "code",
   "execution_count": 36,
   "metadata": {},
   "outputs": [
    {
     "name": "stdout",
     "output_type": "stream",
     "text": [
      "name :  Jane\n",
      "age :  25\n",
      "a :  10\n"
     ]
    }
   ],
   "source": [
    "def person_info(a, name, age = 35):\n",
    "    print(\"name : \", name)\n",
    "    print(\"age : \", age)\n",
    "    print(\"a : \", a)\n",
    "    \n",
    "# person_info(\"Jane\", 25)\n",
    "# person_info(\"Jane\")\n",
    "# person_info(25, \"Jane\")\n",
    "person_info(10, age=25, name= \"Jane\")"
   ]
  },
  {
   "cell_type": "markdown",
   "metadata": {},
   "source": [
    "#### 4. Variable length arguments\n",
    "\n",
    "Ex. Write a python function to perform sum of multiple numbers."
   ]
  },
  {
   "cell_type": "code",
   "execution_count": 42,
   "metadata": {},
   "outputs": [
    {
     "name": "stdout",
     "output_type": "stream",
     "text": [
      "a :  1\n",
      "val :  ('a', [1, 2, 3])\n",
      "b :  90\n"
     ]
    }
   ],
   "source": [
    "def func(a, *val, b = 10):\n",
    "    print(\"a : \", a)\n",
    "    print(\"val : \", val)\n",
    "    print(\"b : \", b)\n",
    "\n",
    "func(1, 'a', [1,2,3], b= 90)"
   ]
  },
  {
   "cell_type": "code",
   "execution_count": 43,
   "metadata": {},
   "outputs": [
    {
     "name": "stdout",
     "output_type": "stream",
     "text": [
      "Help on built-in function print in module builtins:\n",
      "\n",
      "print(...)\n",
      "    print(value, ..., sep=' ', end='\\n', file=sys.stdout, flush=False)\n",
      "    \n",
      "    Prints the values to a stream, or to sys.stdout by default.\n",
      "    Optional keyword arguments:\n",
      "    file:  a file-like object (stream); defaults to the current sys.stdout.\n",
      "    sep:   string inserted between values, default a space.\n",
      "    end:   string appended after the last value, default a newline.\n",
      "    flush: whether to forcibly flush the stream.\n",
      "\n"
     ]
    }
   ],
   "source": [
    "help(print)"
   ]
  },
  {
   "cell_type": "code",
   "execution_count": 50,
   "metadata": {},
   "outputs": [
    {
     "name": "stdout",
     "output_type": "stream",
     "text": [
      "args :  (1, 2, 3)\n",
      "kwargs :  {}\n",
      "\n",
      "args :  ()\n",
      "kwargs :  {'a': 1, 'b': 2, 'c': 3}\n",
      "\n",
      "args :  (1, 2, 3)\n",
      "kwargs :  {'a': 1, 'b': 2, 'c': 3}\n"
     ]
    }
   ],
   "source": [
    "def func(*args, **kwargs):\n",
    "    print(\"args : \", args)\n",
    "    print(\"kwargs : \", kwargs)\n",
    "\n",
    "func(1,2,3)\n",
    "print()\n",
    "func(a = 1, b = 2, c = 3)\n",
    "print()\n",
    "func(1,2,3, a = 1, b = 2, c = 3)"
   ]
  },
  {
   "cell_type": "markdown",
   "metadata": {},
   "source": [
    "### Task\n",
    "\n",
    "Ex. Write a python function to perform sum of multiple numbers. <br>Apply validation for non numeric values if entered."
   ]
  },
  {
   "cell_type": "code",
   "execution_count": null,
   "metadata": {},
   "outputs": [],
   "source": []
  }
 ],
 "metadata": {
  "kernelspec": {
   "display_name": "Python 3",
   "language": "python",
   "name": "python3"
  },
  "language_info": {
   "codemirror_mode": {
    "name": "ipython",
    "version": 3
   },
   "file_extension": ".py",
   "mimetype": "text/x-python",
   "name": "python",
   "nbconvert_exporter": "python",
   "pygments_lexer": "ipython3",
   "version": "3.7.0"
  }
 },
 "nbformat": 4,
 "nbformat_minor": 2
}
