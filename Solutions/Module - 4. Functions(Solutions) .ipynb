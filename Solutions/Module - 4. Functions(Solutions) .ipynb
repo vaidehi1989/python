{
 "cells": [
  {
   "cell_type": "markdown",
   "metadata": {},
   "source": [
    "#  Functions in Python"
   ]
  },
  {
   "cell_type": "markdown",
   "metadata": {},
   "source": [
    "### Ex. Write a python function to return factorial of a number"
   ]
  },
  {
   "cell_type": "code",
   "execution_count": 2,
   "metadata": {},
   "outputs": [
    {
     "data": {
      "text/plain": [
       "120"
      ]
     },
     "execution_count": 2,
     "metadata": {},
     "output_type": "execute_result"
    }
   ],
   "source": [
    "def fact(n):\n",
    "    fact = 1\n",
    "    for i in range(1, n+1):\n",
    "        fact *= i\n",
    "    return fact\n",
    "\n",
    "fact(5)"
   ]
  },
  {
   "cell_type": "markdown",
   "metadata": {},
   "source": [
    "### Ex. Demonstrate an example of nested function. Scope of variables."
   ]
  },
  {
   "cell_type": "code",
   "execution_count": 17,
   "metadata": {},
   "outputs": [
    {
     "name": "stdout",
     "output_type": "stream",
     "text": [
      "inner_func 30\n",
      "outer_func 30\n",
      "main_method 10\n"
     ]
    }
   ],
   "source": [
    "def outer_func():\n",
    "    #global x\n",
    "    x = 20\n",
    "    \n",
    "    def inner_func():\n",
    "        #global x\n",
    "        nonlocal x\n",
    "        x = 30\n",
    "        print(\"inner_func\", x)\n",
    "    \n",
    "    inner_func()\n",
    "    print(\"outer_func\", x)\n",
    "    \n",
    "x = 10\n",
    "outer_func()\n",
    "print(\"main_method\", x)"
   ]
  },
  {
   "cell_type": "markdown",
   "metadata": {},
   "source": [
    "### Ex. Closures"
   ]
  },
  {
   "cell_type": "code",
   "execution_count": 38,
   "metadata": {},
   "outputs": [
    {
     "name": "stdout",
     "output_type": "stream",
     "text": [
      "Hey!\n"
     ]
    }
   ],
   "source": [
    "def outerFunction(text): \n",
    "    text = text \n",
    "  \n",
    "    def innerFunction(): \n",
    "        print(text) \n",
    "  \n",
    "    return innerFunction \n",
    "\n",
    "myFunction = outerFunction('Hey!') \n",
    "myFunction() \n"
   ]
  },
  {
   "cell_type": "markdown",
   "metadata": {},
   "source": [
    "### Ex. Parameter passing mechanisms in Python."
   ]
  },
  {
   "cell_type": "markdown",
   "metadata": {},
   "source": [
    "#### 1. Positional Arguments\n",
    "Ex. Write a python function to perform sum of 2 numbers."
   ]
  },
  {
   "cell_type": "code",
   "execution_count": 18,
   "metadata": {},
   "outputs": [
    {
     "name": "stdout",
     "output_type": "stream",
     "text": [
      "Sum of 10 and 20 is 30\n"
     ]
    }
   ],
   "source": [
    "def sum_of_two_nos(a, b):\n",
    "    c = a + b\n",
    "    print(\"Sum of {} and {} is {}\".format(a,b,c))\n",
    "\n",
    "sum_of_two_nos(10,20)"
   ]
  },
  {
   "cell_type": "markdown",
   "metadata": {},
   "source": [
    "#### 2. Default Arguments\n",
    "Ex. Write a python function to perform sum of 2 numbers. Keep one number as default 10 "
   ]
  },
  {
   "cell_type": "code",
   "execution_count": 20,
   "metadata": {},
   "outputs": [
    {
     "name": "stdout",
     "output_type": "stream",
     "text": [
      "Sum of 30 and 20 is 50\n",
      "Sum of 30 and 10 is 40\n"
     ]
    }
   ],
   "source": [
    "def sum_of_two_nos(a, b = 10):\n",
    "    c = a + b\n",
    "    print(\"Sum of {} and {} is {}\".format(a,b,c))\n",
    "\n",
    "sum_of_two_nos(30,20)\n",
    "sum_of_two_nos(30)"
   ]
  },
  {
   "cell_type": "markdown",
   "metadata": {},
   "source": [
    "#### 3. Keyword Arguments"
   ]
  },
  {
   "cell_type": "code",
   "execution_count": 21,
   "metadata": {},
   "outputs": [
    {
     "name": "stdout",
     "output_type": "stream",
     "text": [
      "Sum of 30 and 20 is 50\n",
      "Sum of 30 and 10 is 40\n"
     ]
    }
   ],
   "source": [
    "def sum_of_two_nos(a, b = 10):\n",
    "    c = a + b\n",
    "    print(\"Sum of {} and {} is {}\".format(a,b,c))\n",
    "\n",
    "sum_of_two_nos(a = 30,b = 20)\n",
    "sum_of_two_nos(a = 30)"
   ]
  },
  {
   "cell_type": "markdown",
   "metadata": {},
   "source": [
    "#### 4. Variable length arguments\n",
    "\n",
    "Ex. Write a python function to perform sum of multiple numbers."
   ]
  },
  {
   "cell_type": "code",
   "execution_count": 22,
   "metadata": {},
   "outputs": [
    {
     "name": "stdout",
     "output_type": "stream",
     "text": [
      "Sum of (10, 20, 30, 40, 50) is 150\n"
     ]
    }
   ],
   "source": [
    "def sum_of_nos(*nos):   \n",
    "    print(\"Sum of {} is {}\".format(nos, sum(nos)))\n",
    "\n",
    "sum_of_nos(10,20,30,40,50)"
   ]
  },
  {
   "cell_type": "markdown",
   "metadata": {},
   "source": [
    "### Ex. Return Statement\n",
    "\n",
    "Ex. Write a python function to perform sum of multiple numbers. Apply validation for non numeric values if entered."
   ]
  },
  {
   "cell_type": "code",
   "execution_count": 28,
   "metadata": {},
   "outputs": [
    {
     "name": "stdout",
     "output_type": "stream",
     "text": [
      "None\n"
     ]
    }
   ],
   "source": [
    "def sum_of_nos(*nos): \n",
    "    if all([True if x.__class__ == int else False for x in nos]):\n",
    "        return \"Sum of {} is {}\".format(nos, sum(nos))\n",
    "\n",
    "print(sum_of_nos(10,20,30,40,50,'a'))"
   ]
  }
 ],
 "metadata": {
  "kernelspec": {
   "display_name": "Python 3",
   "language": "python",
   "name": "python3"
  },
  "language_info": {
   "codemirror_mode": {
    "name": "ipython",
    "version": 3
   },
   "file_extension": ".py",
   "mimetype": "text/x-python",
   "name": "python",
   "nbconvert_exporter": "python",
   "pygments_lexer": "ipython3",
   "version": "3.7.0"
  }
 },
 "nbformat": 4,
 "nbformat_minor": 2
}
