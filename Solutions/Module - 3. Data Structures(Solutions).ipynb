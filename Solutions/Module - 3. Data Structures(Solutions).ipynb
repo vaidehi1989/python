{
 "cells": [
  {
   "cell_type": "markdown",
   "metadata": {},
   "source": [
    "### Ex. WAP to store names of all cricketers in the ascending order of their batting sequence. "
   ]
  },
  {
   "cell_type": "code",
   "execution_count": 21,
   "metadata": {},
   "outputs": [
    {
     "name": "stdout",
     "output_type": "stream",
     "text": [
      "No of players in the team :  11\n"
     ]
    }
   ],
   "source": [
    "team_india = [\"Rohit Sharma\", \"Shikhar Dhawan\", \"Virat Kohli\", \"Ambati Rayudu\", \"MS Dhoni\", \"Ravindra Jadeja\", \"Bhuvneshwar Kumar\", \"Jasprit Bumrah\", \"Yuzvendra Chahal\", \"Umesh Yadav\", \"Kuldeep Yadav\"]\n",
    "print(\"No of players in the team : \", len(team_india))"
   ]
  },
  {
   "cell_type": "markdown",
   "metadata": {},
   "source": [
    "#### Ex. Name of the player should be displayed when his batting sequence number is entered. "
   ]
  },
  {
   "cell_type": "code",
   "execution_count": 13,
   "metadata": {},
   "outputs": [
    {
     "name": "stdout",
     "output_type": "stream",
     "text": [
      "Enter player no : 4\n",
      "Player at no  4 is MS Dhoni\n"
     ]
    }
   ],
   "source": [
    "player_no = int(input(\"Enter player no : \"))\n",
    "print(\"Player at no \", player_no, \"is\", team_india[player_no])"
   ]
  },
  {
   "cell_type": "markdown",
   "metadata": {},
   "source": [
    "#### Ex. Display batting sequence number of the player when his name is provided."
   ]
  },
  {
   "cell_type": "code",
   "execution_count": 10,
   "metadata": {},
   "outputs": [
    {
     "name": "stdout",
     "output_type": "stream",
     "text": [
      "Enter player name : Shikhar Dhawan\n",
      "Player Shikhar Dhawan is playing at no.  2\n"
     ]
    }
   ],
   "source": [
    "player_name = input(\"Enter player name : \")\n",
    "print(\"Player\", player_name, \"is playing at no. \", team_india.index(player_name) + 1)"
   ]
  },
  {
   "cell_type": "markdown",
   "metadata": {},
   "source": [
    "#### Ex. Display name of strongest and the weakest batsman"
   ]
  },
  {
   "cell_type": "code",
   "execution_count": 14,
   "metadata": {},
   "outputs": [
    {
     "name": "stdout",
     "output_type": "stream",
     "text": [
      "Rohit Sharma\n",
      "Kuldeep Yadav\n"
     ]
    }
   ],
   "source": [
    "print(team_india[0])\n",
    "print(team_india[-1])"
   ]
  },
  {
   "cell_type": "markdown",
   "metadata": {},
   "source": [
    "#### Ex. Obtain list of all bowlers. (Hint: Bowlers are the last 4 players in batting sequence)"
   ]
  },
  {
   "cell_type": "code",
   "execution_count": 15,
   "metadata": {},
   "outputs": [
    {
     "name": "stdout",
     "output_type": "stream",
     "text": [
      "List of bowlers :  ['Jasprit Bumrah', 'Yuzvendra Chahal', 'Umesh Yadav', 'Kuldeep Yadav']\n"
     ]
    }
   ],
   "source": [
    "print(\"List of bowlers : \", team_india[-4:])"
   ]
  },
  {
   "cell_type": "markdown",
   "metadata": {},
   "source": [
    "#### Ex. Player no. 5 is injured and should be replaced by another player."
   ]
  },
  {
   "cell_type": "code",
   "execution_count": 19,
   "metadata": {},
   "outputs": [
    {
     "name": "stdout",
     "output_type": "stream",
     "text": [
      "['Rohit Sharma', 'Shikhar Dhawan', 'Virat Kohli', 'MS Dhoni', 'Rishab Pant', 'Ravindra Jadeja', 'Bhuvneshwar Kumar', 'Jasprit Bumrah', 'Yuzvendra Chahal', 'Umesh Yadav', 'Kuldeep Yadav']\n"
     ]
    }
   ],
   "source": [
    "team_india[4] = \"Rishab Pant\"\n",
    "print(team_india)"
   ]
  },
  {
   "cell_type": "markdown",
   "metadata": {},
   "source": [
    "#### Ex. A complete new set of top 5 batsmen is recruited. Remove older 5 batsmen and join the 2 lists."
   ]
  },
  {
   "cell_type": "code",
   "execution_count": 26,
   "metadata": {},
   "outputs": [
    {
     "name": "stdout",
     "output_type": "stream",
     "text": [
      "['Shikhar Dhawan', 'Rohit Sharma', 'Prithvi Shaw', 'Rishab Pant', 'Dinesh Karthik', 'Ravindra Jadeja', 'Bhuvneshwar Kumar', 'Jasprit Bumrah', 'Yuzvendra Chahal', 'Umesh Yadav', 'Kuldeep Yadav']\n"
     ]
    }
   ],
   "source": [
    "team_india = [\"Rohit Sharma\", \"Shikhar Dhawan\", \"Virat Kohli\", \"Ambati Rayudu\", \"MS Dhoni\", \"Ravindra Jadeja\", \"Bhuvneshwar Kumar\", \"Jasprit Bumrah\", \"Yuzvendra Chahal\", \"Umesh Yadav\", \"Kuldeep Yadav\"]\n",
    "team_india[:5] = [\"Shikhar Dhawan\", \"Rohit Sharma\", \"Prithvi Shaw\",'Rishab Pant', \"Dinesh Karthik\" ]\n",
    "print(team_india)"
   ]
  },
  {
   "cell_type": "markdown",
   "metadata": {},
   "source": [
    "#### Ex. Sort the list of players in ascecnding order of their names"
   ]
  },
  {
   "cell_type": "code",
   "execution_count": 25,
   "metadata": {},
   "outputs": [
    {
     "name": "stdout",
     "output_type": "stream",
     "text": [
      "['Ambati Rayudu', 'Bhuvneshwar Kumar', 'Jasprit Bumrah', 'Kuldeep Yadav', 'Ravindra Jadeja', 'Ravindra Jadeja', 'Rishab Pant', 'Rohit Sharma', 'Shikhar Dhawan', 'Umesh Yadav', 'Yuzvendra Chahal']\n"
     ]
    },
    {
     "data": {
      "text/plain": [
       "['Ambati Rayudu',\n",
       " 'Bhuvneshwar Kumar',\n",
       " 'Jasprit Bumrah',\n",
       " 'Kuldeep Yadav',\n",
       " 'Ravindra Jadeja',\n",
       " 'Ravindra Jadeja',\n",
       " 'Rishab Pant',\n",
       " 'Rohit Sharma',\n",
       " 'Shikhar Dhawan',\n",
       " 'Umesh Yadav',\n",
       " 'Yuzvendra Chahal']"
      ]
     },
     "execution_count": 25,
     "metadata": {},
     "output_type": "execute_result"
    }
   ],
   "source": [
    "team_india = ['Shikhar Dhawan', 'Rohit Sharma', 'Ambati Rayudu', 'Rishab Pant', 'Ravindra Jadeja', 'Ravindra Jadeja', 'Bhuvneshwar Kumar', 'Jasprit Bumrah', 'Yuzvendra Chahal', 'Umesh Yadav', 'Kuldeep Yadav']\n",
    "team_india.sort()\n",
    "print(team_india)\n",
    "\n",
    "\n",
    "sorted(team_india)"
   ]
  },
  {
   "cell_type": "markdown",
   "metadata": {},
   "source": [
    "### Ex. Example on Tuple"
   ]
  },
  {
   "cell_type": "code",
   "execution_count": 44,
   "metadata": {},
   "outputs": [],
   "source": [
    "t = (1,2,3,4,5)\n",
    "\n",
    "# Indexing and Slicing\n",
    "\n",
    "# Single Value Tuple\n",
    "\n",
    "# Tuple methods\n",
    "\n"
   ]
  },
  {
   "cell_type": "markdown",
   "metadata": {},
   "source": [
    "#### Ex. WAP to print common elements in the following 2 lists\n",
    "a = [1, 1, 2, 3, 5, 8, 13] <br>\n",
    "b = [1, 2, 3, 4, 5, 6, 7]"
   ]
  },
  {
   "cell_type": "code",
   "execution_count": 30,
   "metadata": {},
   "outputs": [
    {
     "name": "stdout",
     "output_type": "stream",
     "text": [
      "uncommon elements :  {4, 6, 7, 8, 13}\n",
      "union :  {1, 2, 3, 4, 5, 6, 7, 8, 13}\n",
      "only a :  {8, 13}\n",
      "common elements :  {1, 2, 3, 5}\n"
     ]
    }
   ],
   "source": [
    "a = [1, 1, 2, 3, 5, 8, 13] \n",
    "b = [1, 2, 3, 4, 5, 6, 7]\n",
    "\n",
    "set_a = set(a)\n",
    "set_b = set(b)\n",
    "\n",
    "print(\"uncommon elements : \", set_a ^ set_b)\n",
    "print(\"union : \", set_a | set_b)\n",
    "print(\"only a : \", set_a - set_b)\n",
    "print(\"common elements : \", set_a & set_b)"
   ]
  },
  {
   "cell_type": "markdown",
   "metadata": {},
   "source": [
    "### Ex. Creating a collection of five countires and their currencies."
   ]
  },
  {
   "cell_type": "code",
   "execution_count": 31,
   "metadata": {},
   "outputs": [],
   "source": [
    "country_currency = {\"India\" : \"Rupees\", \"Thailand\": \"Bhat\", \"USA\": \"Dollars\", \"UK\": \"GBP\", \"France\": \"Euros\", \"Italy\": \"Euros\"}"
   ]
  },
  {
   "cell_type": "markdown",
   "metadata": {},
   "source": [
    "#### Ex. Displaying the currency when country name is entered. Also displaying sutaible message if the country doesnt exists."
   ]
  },
  {
   "cell_type": "code",
   "execution_count": 32,
   "metadata": {},
   "outputs": [
    {
     "name": "stdout",
     "output_type": "stream",
     "text": [
      "Enter country name : India\n",
      "Currency of India is Rupees\n"
     ]
    }
   ],
   "source": [
    "country_name = input(\"Enter country name : \")\n",
    "print(\"Currency of\", country_name, \"is\", country_currency[country_name] )"
   ]
  },
  {
   "cell_type": "markdown",
   "metadata": {},
   "source": [
    "#### Ex. Displaying all the countries and their currenciers."
   ]
  },
  {
   "cell_type": "code",
   "execution_count": 34,
   "metadata": {},
   "outputs": [
    {
     "name": "stdout",
     "output_type": "stream",
     "text": [
      "India Thailand USA UK France Italy \n",
      "India - Rupees\n",
      "Thailand - Bhat\n",
      "USA - Dollars\n",
      "UK - GBP\n",
      "France - Euros\n",
      "Italy - Euros\n"
     ]
    }
   ],
   "source": [
    "# Displaying all countries:\n",
    "for country in country_currency.keys():\n",
    "    print(country, end=\" \")\n",
    "print()\n",
    "# Displaying all countries and their currencies:\n",
    "for k,v in country_currency.items():\n",
    "    print(k,v, sep=\" - \")"
   ]
  },
  {
   "cell_type": "markdown",
   "metadata": {},
   "source": [
    "#### Ex. Sorting the dictionary."
   ]
  },
  {
   "cell_type": "code",
   "execution_count": 43,
   "metadata": {},
   "outputs": [
    {
     "name": "stdout",
     "output_type": "stream",
     "text": [
      "{'France': 'Euros', 'India': 'Rupees', 'Italy': 'Euros', 'Thailand': 'Bhat', 'UK': 'GBP', 'USA': 'Dollars'}\n",
      "{'France': 'Euros', 'India': 'Rupees', 'Italy': 'Euros', 'Thailand': 'Bhat', 'UK': 'GBP', 'USA': 'Dollars'}\n"
     ]
    }
   ],
   "source": [
    "d = {country:country_currency[country] for country in sorted(country_currency.keys())}\n",
    "print(d)\n",
    "\n",
    "d = dict(item for item in sorted(country_currency.items()))\n",
    "print(d)"
   ]
  }
 ],
 "metadata": {
  "kernelspec": {
   "display_name": "Python 3",
   "language": "python",
   "name": "python3"
  },
  "language_info": {
   "codemirror_mode": {
    "name": "ipython",
    "version": 3
   },
   "file_extension": ".py",
   "mimetype": "text/x-python",
   "name": "python",
   "nbconvert_exporter": "python",
   "pygments_lexer": "ipython3",
   "version": "3.7.0"
  }
 },
 "nbformat": 4,
 "nbformat_minor": 2
}
