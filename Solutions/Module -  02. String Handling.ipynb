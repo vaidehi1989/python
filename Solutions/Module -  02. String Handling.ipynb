{
 "cells": [
  {
   "cell_type": "markdown",
   "metadata": {},
   "source": [
    "## String Handling"
   ]
  },
  {
   "cell_type": "markdown",
   "metadata": {},
   "source": [
    "### Ex. Iterate over all the characters of a String"
   ]
  },
  {
   "cell_type": "code",
   "execution_count": 1,
   "metadata": {},
   "outputs": [
    {
     "name": "stdout",
     "output_type": "stream",
     "text": [
      "A e r o p l a n e "
     ]
    }
   ],
   "source": [
    "string = \"Aeroplane\"\n",
    "for i in string:\n",
    "    print(i, end=\" \")"
   ]
  },
  {
   "cell_type": "markdown",
   "metadata": {},
   "source": [
    "### Ex. WAP to change a given string to a new string where the first and last chars have been exchanged"
   ]
  },
  {
   "cell_type": "code",
   "execution_count": 2,
   "metadata": {},
   "outputs": [
    {
     "name": "stdout",
     "output_type": "stream",
     "text": [
      "eeroplanA\n"
     ]
    }
   ],
   "source": [
    "s = \"Aeroplane\"\n",
    "new_s = s[-1] + s[1:-1]  + s[0]\n",
    "print(new_s)"
   ]
  },
  {
   "cell_type": "code",
   "execution_count": 9,
   "metadata": {},
   "outputs": [
    {
     "name": "stdout",
     "output_type": "stream",
     "text": [
      "epn\n",
      "enalp\n"
     ]
    }
   ],
   "source": [
    "s = \"Aeroplane\"\n",
    "print(s[1::3])\n",
    "print(s[:-6:-1])"
   ]
  },
  {
   "cell_type": "code",
   "execution_count": 12,
   "metadata": {},
   "outputs": [
    {
     "data": {
      "text/plain": [
       "9"
      ]
     },
     "execution_count": 12,
     "metadata": {},
     "output_type": "execute_result"
    }
   ],
   "source": [
    "len(s)"
   ]
  },
  {
   "cell_type": "markdown",
   "metadata": {},
   "source": [
    "### Ex. Write a Python program to count the occurrences of character 'a' in a given word 'aeroplane'."
   ]
  },
  {
   "cell_type": "code",
   "execution_count": 24,
   "metadata": {},
   "outputs": [
    {
     "name": "stdout",
     "output_type": "stream",
     "text": [
      "6\n",
      "['ab:cd', 'e', 'f']\n",
      "H*e*l*l*o\n"
     ]
    }
   ],
   "source": [
    "s = 'aeroplane'\n",
    "print(s.find('a', 1,10))\n",
    "s = \"ab:cd:e:f\"\n",
    "print(s.rsplit(\":\",2))\n",
    "l = ['a','b','c']\n",
    "print(\"*\".join(\"Hello\"))"
   ]
  },
  {
   "cell_type": "code",
   "execution_count": 27,
   "metadata": {},
   "outputs": [
    {
     "name": "stdout",
     "output_type": "stream",
     "text": [
      "o,l,l,e,H\n"
     ]
    }
   ],
   "source": [
    "s = \"Hello\"\n",
    "rev = reversed(s)\n",
    "print(\",\".join(rev))"
   ]
  },
  {
   "cell_type": "markdown",
   "metadata": {},
   "source": [
    "### Ex. WAP to check if entered string is palindrome or not."
   ]
  },
  {
   "cell_type": "code",
   "execution_count": 29,
   "metadata": {},
   "outputs": [
    {
     "name": "stdout",
     "output_type": "stream",
     "text": [
      "Enter string : abc\n",
      "Not palindrome\n"
     ]
    }
   ],
   "source": [
    "st = input(\"Enter string : \")\n",
    "if st == \"\".join(reversed(st)):\n",
    "    print(\"Palindrome\")\n",
    "else:\n",
    "    print(\"Not palindrome\")"
   ]
  },
  {
   "cell_type": "markdown",
   "metadata": {},
   "source": [
    "### Ex. WAP to print following pattern from the given string.\n",
    "mystr = \"I am in Python class\"\n",
    "\n",
    "output : class Python in am I "
   ]
  },
  {
   "cell_type": "code",
   "execution_count": null,
   "metadata": {},
   "outputs": [],
   "source": []
  }
 ],
 "metadata": {
  "kernelspec": {
   "display_name": "Python 3",
   "language": "python",
   "name": "python3"
  },
  "language_info": {
   "codemirror_mode": {
    "name": "ipython",
    "version": 3
   },
   "file_extension": ".py",
   "mimetype": "text/x-python",
   "name": "python",
   "nbconvert_exporter": "python",
   "pygments_lexer": "ipython3",
   "version": "3.7.0"
  }
 },
 "nbformat": 4,
 "nbformat_minor": 2
}
